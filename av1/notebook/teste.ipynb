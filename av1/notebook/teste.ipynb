{
 "cells": [
  {
   "cell_type": "code",
   "execution_count": 2,
   "id": "427ff3b8",
   "metadata": {},
   "outputs": [],
   "source": [
    "# importar bibliotecas \n",
    "import pandas as pd\n",
    "import numpy as np\n",
    "import matplotlib.pyplot as plt\n",
    "import seaborn as sns\n",
    "from config import Config\n",
    "from src.data_processing import DataDict, ItemDict\n",
    "import json\n",
    "pd.set_option(\"display.width\", None)\n",
    "pd.set_option(\"display.max_columns\", None)\n",
    "pd.set_option(\"display.max_colwidth\", None)\n",
    "\n",
    "\n",
    "from IPython.display import display"
   ]
  },
  {
   "cell_type": "code",
   "execution_count": 3,
   "id": "869388f6",
   "metadata": {},
   "outputs": [],
   "source": [
    "# diretório dos dados\n",
    "data_dirs = Config.get_path_dir_data()\n",
    "# caminho para o arquivo csv da variáveis e suas categorias\n",
    "path_dict = data_dirs[\"DICIONÁRIO\"][\"MICRODADOS_ENEM_2023.csv\"]\n",
    "\n",
    "# caminho para os microdados do enem 2023\n",
    "path_microdados = data_dirs[\"DADOS\"][\"MICRODADOS_ENEM_2023.csv\"]\n",
    "# caminho para os itens das provas\n",
    "path_itens = data_dirs[\"DADOS\"][\"ITENS_PROVA_2023.csv\"]\n",
    "\n",
    "# Caminho para o dicionário de variveis dos microdados\n",
    "path_dict_microdados = data_dirs[\"DICIONÁRIO\"][\"MICRODADOS_ENEM_2023.csv\"]\n",
    "# Caminho para o dicionário de variveis dos microdados\n",
    "path_dict_itens = data_dirs[\"DICIONÁRIO\"][\"ITENS_PROVA_2023.csv\"]"
   ]
  },
  {
   "cell_type": "code",
   "execution_count": 4,
   "id": "ccbe05e0",
   "metadata": {},
   "outputs": [],
   "source": [
    "dir_data = data_dirs[\"DADOS\"]\n",
    "dir_parquet_data = dir_data[\"MICRODADOS_ENEM_2023_parquet\"]\n",
    "path_parquet_file = dir_data[\"MICRODADOS_ENEM_2023.parquet\"]\n",
    "\n",
    "# items\n",
    "path_parquet_itens = dir_data[\"ITENS_PROVA_2023.parquet\"]"
   ]
  },
  {
   "cell_type": "code",
   "execution_count": 6,
   "id": "3b3886ce",
   "metadata": {},
   "outputs": [],
   "source": [
    "list_parquet = list(dir_parquet_data.list_file().values())"
   ]
  },
  {
   "cell_type": "code",
   "execution_count": 5,
   "id": "f18cd4d0",
   "metadata": {},
   "outputs": [],
   "source": [
    "dict_microdados = DataDict(path_dict_microdados)\n",
    "dict_itens = ItemDict(path_dict_itens)"
   ]
  },
  {
   "cell_type": "code",
   "execution_count": 12,
   "id": "32463be7",
   "metadata": {},
   "outputs": [],
   "source": [
    "df1 = pd.read_parquet(list_parquet[0])\n",
    "df2 = pd.read_parquet(list_parquet[1])\n",
    "df = pd.concat([df1,df2])"
   ]
  },
  {
   "cell_type": "code",
   "execution_count": 7,
   "id": "ba0299d2",
   "metadata": {},
   "outputs": [],
   "source": [
    "df_itens = pd.read_parquet(path_parquet_itens)"
   ]
  },
  {
   "cell_type": "code",
   "execution_count": 6,
   "id": "be345d04",
   "metadata": {},
   "outputs": [],
   "source": [
    "df = pd.read_parquet(path_parquet_file)"
   ]
  },
  {
   "cell_type": "code",
   "execution_count": null,
   "id": "9c2aa7bd",
   "metadata": {},
   "outputs": [
    {
     "data": {
      "text/html": [
       "<div>\n",
       "<style scoped>\n",
       "    .dataframe tbody tr th:only-of-type {\n",
       "        vertical-align: middle;\n",
       "    }\n",
       "\n",
       "    .dataframe tbody tr th {\n",
       "        vertical-align: top;\n",
       "    }\n",
       "\n",
       "    .dataframe thead th {\n",
       "        text-align: right;\n",
       "    }\n",
       "</style>\n",
       "<table border=\"1\" class=\"dataframe\">\n",
       "  <thead>\n",
       "    <tr style=\"text-align: right;\">\n",
       "      <th></th>\n",
       "      <th>Nome da variavel</th>\n",
       "      <th>Descricao</th>\n",
       "      <th>Variavel Categorica</th>\n",
       "      <th>Tamanho</th>\n",
       "      <th>Tipo</th>\n",
       "    </tr>\n",
       "  </thead>\n",
       "  <tbody>\n",
       "    <tr>\n",
       "      <th>0</th>\n",
       "      <td>CO_POSICAO</td>\n",
       "      <td>Posição do Item na Prova</td>\n",
       "      <td>False</td>\n",
       "      <td>3</td>\n",
       "      <td>Numérica</td>\n",
       "    </tr>\n",
       "    <tr>\n",
       "      <th>1</th>\n",
       "      <td>SG_AREA</td>\n",
       "      <td>Área de Conhecimento do Item</td>\n",
       "      <td>True</td>\n",
       "      <td>2</td>\n",
       "      <td>Alfanumérica</td>\n",
       "    </tr>\n",
       "    <tr>\n",
       "      <th>2</th>\n",
       "      <td>CO_ITEM</td>\n",
       "      <td>Código do Item</td>\n",
       "      <td>False</td>\n",
       "      <td>5</td>\n",
       "      <td>Numérica</td>\n",
       "    </tr>\n",
       "    <tr>\n",
       "      <th>3</th>\n",
       "      <td>TX_GABARITO</td>\n",
       "      <td>Gabarito do Item¹</td>\n",
       "      <td>False</td>\n",
       "      <td>1</td>\n",
       "      <td>Alfanumérica</td>\n",
       "    </tr>\n",
       "    <tr>\n",
       "      <th>4</th>\n",
       "      <td>CO_HABILIDADE</td>\n",
       "      <td>Habilidade do Item</td>\n",
       "      <td>False</td>\n",
       "      <td>2</td>\n",
       "      <td>Numérica</td>\n",
       "    </tr>\n",
       "    <tr>\n",
       "      <th>5</th>\n",
       "      <td>IN_ITEM_ABAN</td>\n",
       "      <td>Indicador de item abandonado</td>\n",
       "      <td>True</td>\n",
       "      <td>1</td>\n",
       "      <td>Numérica</td>\n",
       "    </tr>\n",
       "    <tr>\n",
       "      <th>6</th>\n",
       "      <td>TX_MOTIVO_ABAN</td>\n",
       "      <td>Motivo para o abandono do item</td>\n",
       "      <td>False</td>\n",
       "      <td>40</td>\n",
       "      <td>Alfanumérica</td>\n",
       "    </tr>\n",
       "    <tr>\n",
       "      <th>7</th>\n",
       "      <td>NU_PARAM_A</td>\n",
       "      <td>Parâmetro de discriminação: é o poder de discriminação do item para diferenciar os participantes que dominam dos participantes que não dominam a habilidade avaliada.</td>\n",
       "      <td>False</td>\n",
       "      <td>9</td>\n",
       "      <td>Numérica</td>\n",
       "    </tr>\n",
       "    <tr>\n",
       "      <th>8</th>\n",
       "      <td>NU_PARAM_B</td>\n",
       "      <td>Parâmetro de dificuldade: associado à dificuldade do item, sendo que quanto maior seu valor, mais difícil é o item.</td>\n",
       "      <td>False</td>\n",
       "      <td>9</td>\n",
       "      <td>Numérica</td>\n",
       "    </tr>\n",
       "    <tr>\n",
       "      <th>9</th>\n",
       "      <td>NU_PARAM_C</td>\n",
       "      <td>Parâmetro de acerto ao acaso: é a probabilidade de um participante acertar o item não dominando a habilidade exigida.</td>\n",
       "      <td>False</td>\n",
       "      <td>9</td>\n",
       "      <td>Numérica</td>\n",
       "    </tr>\n",
       "    <tr>\n",
       "      <th>10</th>\n",
       "      <td>TX_COR</td>\n",
       "      <td>Cor da Prova</td>\n",
       "      <td>False</td>\n",
       "      <td>7</td>\n",
       "      <td>Alfanumérica</td>\n",
       "    </tr>\n",
       "    <tr>\n",
       "      <th>11</th>\n",
       "      <td>CO_PROVA</td>\n",
       "      <td>Identificador da Prova</td>\n",
       "      <td>False</td>\n",
       "      <td>3</td>\n",
       "      <td>Numérica</td>\n",
       "    </tr>\n",
       "    <tr>\n",
       "      <th>12</th>\n",
       "      <td>TP_LINGUA</td>\n",
       "      <td>Língua Estrangeira</td>\n",
       "      <td>True</td>\n",
       "      <td>1</td>\n",
       "      <td>Numérica</td>\n",
       "    </tr>\n",
       "    <tr>\n",
       "      <th>13</th>\n",
       "      <td>IN_ITEM_ADAPTADO</td>\n",
       "      <td>Item pertencente à prova adaptada</td>\n",
       "      <td>True</td>\n",
       "      <td>1</td>\n",
       "      <td>Numérica</td>\n",
       "    </tr>\n",
       "  </tbody>\n",
       "</table>\n",
       "</div>"
      ],
      "text/plain": [
       "    Nome da variavel  \\\n",
       "0         CO_POSICAO   \n",
       "1            SG_AREA   \n",
       "2            CO_ITEM   \n",
       "3        TX_GABARITO   \n",
       "4      CO_HABILIDADE   \n",
       "5       IN_ITEM_ABAN   \n",
       "6     TX_MOTIVO_ABAN   \n",
       "7         NU_PARAM_A   \n",
       "8         NU_PARAM_B   \n",
       "9         NU_PARAM_C   \n",
       "10            TX_COR   \n",
       "11          CO_PROVA   \n",
       "12         TP_LINGUA   \n",
       "13  IN_ITEM_ADAPTADO   \n",
       "\n",
       "                                                                                                                                                                Descricao  \\\n",
       "0                                                                                                                                                Posição do Item na Prova   \n",
       "1                                                                                                                                            Área de Conhecimento do Item   \n",
       "2                                                                                                                                                          Código do Item   \n",
       "3                                                                                                                                                       Gabarito do Item¹   \n",
       "4                                                                                                                                                      Habilidade do Item   \n",
       "5                                                                                                                                            Indicador de item abandonado   \n",
       "6                                                                                                                                          Motivo para o abandono do item   \n",
       "7   Parâmetro de discriminação: é o poder de discriminação do item para diferenciar os participantes que dominam dos participantes que não dominam a habilidade avaliada.   \n",
       "8                                                     Parâmetro de dificuldade: associado à dificuldade do item, sendo que quanto maior seu valor, mais difícil é o item.   \n",
       "9                                                   Parâmetro de acerto ao acaso: é a probabilidade de um participante acertar o item não dominando a habilidade exigida.   \n",
       "10                                                                                                                                                           Cor da Prova   \n",
       "11                                                                                                                                                 Identificador da Prova   \n",
       "12                                                                                                                                                    Língua Estrangeira    \n",
       "13                                                                                                                                      Item pertencente à prova adaptada   \n",
       "\n",
       "    Variavel Categorica Tamanho          Tipo  \n",
       "0                 False       3      Numérica  \n",
       "1                  True       2  Alfanumérica  \n",
       "2                 False       5      Numérica  \n",
       "3                 False       1  Alfanumérica  \n",
       "4                 False       2      Numérica  \n",
       "5                  True       1      Numérica  \n",
       "6                 False      40  Alfanumérica  \n",
       "7                 False       9      Numérica  \n",
       "8                 False       9      Numérica  \n",
       "9                 False       9      Numérica  \n",
       "10                False       7  Alfanumérica  \n",
       "11                False       3      Numérica  \n",
       "12                 True       1      Numérica  \n",
       "13                 True       1      Numérica  "
      ]
     },
     "execution_count": 7,
     "metadata": {},
     "output_type": "execute_result"
    }
   ],
   "source": [
    "dict_itens.tabel"
   ]
  },
  {
   "cell_type": "code",
   "execution_count": 11,
   "id": "a2527c4e",
   "metadata": {},
   "outputs": [
    {
     "data": {
      "text/plain": [
       "array(['AMARELA', 'ROSA', 'LARANJA', 'BRANCA', 'AZUL', 'VERDE',\n",
       "       'LEITOR TELA', 'CINZA'], dtype=object)"
      ]
     },
     "execution_count": 11,
     "metadata": {},
     "output_type": "execute_result"
    }
   ],
   "source": [
    "df_itens[\"TX_COR\"].unique()"
   ]
  },
  {
   "cell_type": "code",
   "execution_count": 20,
   "id": "8702afad",
   "metadata": {},
   "outputs": [],
   "source": [
    "df_group = df[[\"TX_RESPOSTAS_MT\", \"TX_GABARITO_MT\", \"NU_NOTA_MT\"]].dropna()"
   ]
  },
  {
   "cell_type": "code",
   "execution_count": 29,
   "id": "9b7e4178",
   "metadata": {},
   "outputs": [],
   "source": [
    "resposta  = np.array(list(df_group[\"TX_RESPOSTAS_MT\"][2]))\n",
    "gabarito = np.array(list(df_group[\"TX_GABARITO_MT\"][2]))"
   ]
  },
  {
   "cell_type": "code",
   "execution_count": 35,
   "id": "c1a835ce",
   "metadata": {},
   "outputs": [
    {
     "name": "stdout",
     "output_type": "stream",
     "text": [
      "6\n"
     ]
    }
   ],
   "source": [
    "acertos = (resposta == gabarito).astype(np.int64)\n",
    "print(np.sum(acertos))  # array([True, False, True, ...])\n"
   ]
  },
  {
   "cell_type": "code",
   "execution_count": 25,
   "id": "6e79bcc9",
   "metadata": {},
   "outputs": [
    {
     "name": "stdout",
     "output_type": "stream",
     "text": [
      "False\n"
     ]
    }
   ],
   "source": [
    "df_group = df[[\"CO_PROVA_MT\", \"TX_GABARITO_MT\"]].dropna()\n",
    "df_group1 = df_group[df_group[\"CO_PROVA_MT\"] == 1215]\n",
    "df_group2 = df_group[df_group[\"CO_PROVA_MT\"] == 1292]\n",
    "\n",
    "print(df_group1[\"TX_GABARITO_MT\"].values[0] == df_group2[\"TX_GABARITO_MT\"].values[0])"
   ]
  },
  {
   "cell_type": "code",
   "execution_count": null,
   "id": "058fce76",
   "metadata": {},
   "outputs": [
    {
     "data": {
      "application/vnd.microsoft.datawrangler.viewer.v0+json": {
       "columns": [
        {
         "name": "index",
         "rawType": "int64",
         "type": "integer"
        },
        {
         "name": "categoria",
         "rawType": "object",
         "type": "string"
        },
        {
         "name": "descricao",
         "rawType": "object",
         "type": "string"
        }
       ],
       "conversionMethod": "pd.DataFrame",
       "ref": "bca203c5-b89b-4d76-9289-cc0808578cd2",
       "rows": [
        [
         "0",
         "1211",
         "Azul"
        ],
        [
         "1",
         "1212",
         "Amarela"
        ],
        [
         "2",
         "1213",
         "Rosa"
        ],
        [
         "3",
         "1214",
         "Cinza"
        ],
        [
         "4",
         "1215",
         "Rosa - Ampliada"
        ],
        [
         "5",
         "1216",
         "Rosa - Superampliada"
        ],
        [
         "6",
         "1217",
         "Laranja - Braile"
        ],
        [
         "7",
         "1218",
         "Laranja - Adaptada Ledor"
        ],
        [
         "8",
         "1219",
         "Verde - Videoprova - Libras"
        ],
        [
         "9",
         "1291",
         "Azul (Reaplicação)"
        ],
        [
         "10",
         "1292",
         "Amarela (Reaplicação)"
        ],
        [
         "11",
         "1293",
         "Rosa (Reaplicação)"
        ],
        [
         "12",
         "1294",
         "Cinza (Reaplicação)"
        ]
       ],
       "shape": {
        "columns": 2,
        "rows": 13
       }
      },
      "text/html": [
       "<div>\n",
       "<style scoped>\n",
       "    .dataframe tbody tr th:only-of-type {\n",
       "        vertical-align: middle;\n",
       "    }\n",
       "\n",
       "    .dataframe tbody tr th {\n",
       "        vertical-align: top;\n",
       "    }\n",
       "\n",
       "    .dataframe thead th {\n",
       "        text-align: right;\n",
       "    }\n",
       "</style>\n",
       "<table border=\"1\" class=\"dataframe\">\n",
       "  <thead>\n",
       "    <tr style=\"text-align: right;\">\n",
       "      <th></th>\n",
       "      <th>categoria</th>\n",
       "      <th>descricao</th>\n",
       "    </tr>\n",
       "  </thead>\n",
       "  <tbody>\n",
       "    <tr>\n",
       "      <th>0</th>\n",
       "      <td>1211</td>\n",
       "      <td>Azul</td>\n",
       "    </tr>\n",
       "    <tr>\n",
       "      <th>1</th>\n",
       "      <td>1212</td>\n",
       "      <td>Amarela</td>\n",
       "    </tr>\n",
       "    <tr>\n",
       "      <th>2</th>\n",
       "      <td>1213</td>\n",
       "      <td>Rosa</td>\n",
       "    </tr>\n",
       "    <tr>\n",
       "      <th>3</th>\n",
       "      <td>1214</td>\n",
       "      <td>Cinza</td>\n",
       "    </tr>\n",
       "    <tr>\n",
       "      <th>4</th>\n",
       "      <td>1215</td>\n",
       "      <td>Rosa - Ampliada</td>\n",
       "    </tr>\n",
       "    <tr>\n",
       "      <th>5</th>\n",
       "      <td>1216</td>\n",
       "      <td>Rosa - Superampliada</td>\n",
       "    </tr>\n",
       "    <tr>\n",
       "      <th>6</th>\n",
       "      <td>1217</td>\n",
       "      <td>Laranja - Braile</td>\n",
       "    </tr>\n",
       "    <tr>\n",
       "      <th>7</th>\n",
       "      <td>1218</td>\n",
       "      <td>Laranja - Adaptada Ledor</td>\n",
       "    </tr>\n",
       "    <tr>\n",
       "      <th>8</th>\n",
       "      <td>1219</td>\n",
       "      <td>Verde - Videoprova - Libras</td>\n",
       "    </tr>\n",
       "    <tr>\n",
       "      <th>9</th>\n",
       "      <td>1291</td>\n",
       "      <td>Azul (Reaplicação)</td>\n",
       "    </tr>\n",
       "    <tr>\n",
       "      <th>10</th>\n",
       "      <td>1292</td>\n",
       "      <td>Amarela (Reaplicação)</td>\n",
       "    </tr>\n",
       "    <tr>\n",
       "      <th>11</th>\n",
       "      <td>1293</td>\n",
       "      <td>Rosa (Reaplicação)</td>\n",
       "    </tr>\n",
       "    <tr>\n",
       "      <th>12</th>\n",
       "      <td>1294</td>\n",
       "      <td>Cinza (Reaplicação)</td>\n",
       "    </tr>\n",
       "  </tbody>\n",
       "</table>\n",
       "</div>"
      ],
      "text/plain": [
       "   categoria                    descricao\n",
       "0       1211                         Azul\n",
       "1       1212                      Amarela\n",
       "2       1213                         Rosa\n",
       "3       1214                        Cinza\n",
       "4       1215              Rosa - Ampliada\n",
       "5       1216         Rosa - Superampliada\n",
       "6       1217             Laranja - Braile\n",
       "7       1218     Laranja - Adaptada Ledor\n",
       "8       1219  Verde - Videoprova - Libras\n",
       "9       1291           Azul (Reaplicação)\n",
       "10      1292        Amarela (Reaplicação)\n",
       "11      1293           Rosa (Reaplicação)\n",
       "12      1294          Cinza (Reaplicação)"
      ]
     },
     "execution_count": 27,
     "metadata": {},
     "output_type": "execute_result"
    }
   ],
   "source": [
    "cores = dict_microdados.legenda[\"CO_PROVA_MT\"]\n",
    "dict_cores = {}\n",
    "\n",
    "\n"
   ]
  }
 ],
 "metadata": {
  "kernelspec": {
   "display_name": ".venv",
   "language": "python",
   "name": "python3"
  },
  "language_info": {
   "codemirror_mode": {
    "name": "ipython",
    "version": 3
   },
   "file_extension": ".py",
   "mimetype": "text/x-python",
   "name": "python",
   "nbconvert_exporter": "python",
   "pygments_lexer": "ipython3",
   "version": "3.12.3"
  }
 },
 "nbformat": 4,
 "nbformat_minor": 5
}
