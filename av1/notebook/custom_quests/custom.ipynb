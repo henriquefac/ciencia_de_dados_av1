{
 "cells": [
  {
   "cell_type": "code",
   "execution_count": 2,
   "id": "85bfec5f",
   "metadata": {},
   "outputs": [],
   "source": [
    "# importar bibliotecas \n",
    "import pandas as pd\n",
    "import numpy as np\n",
    "import matplotlib.pyplot as plt\n",
    "import seaborn as sns\n",
    "from config import Config\n",
    "from src.data_processing import DataDict, ItemDict\n",
    "import json\n",
    "pd.set_option(\"display.width\", None)\n",
    "pd.set_option(\"display.max_columns\", None)\n",
    "pd.set_option(\"display.max_colwidth\", None)\n",
    "\n",
    "\n",
    "from IPython.display import display"
   ]
  },
  {
   "cell_type": "code",
   "execution_count": 3,
   "id": "3893f842",
   "metadata": {},
   "outputs": [],
   "source": [
    "# diretório dos dados\n",
    "data_dirs = Config.get_path_dir_data()\n",
    "# caminho para o arquivo csv da variáveis e suas categorias\n",
    "path_dict = data_dirs[\"DICIONÁRIO\"][\"MICRODADOS_ENEM_2023.csv\"]\n",
    "\n",
    "# caminho para os microdados do enem 2023\n",
    "path_microdados = data_dirs[\"DADOS\"][\"MICRODADOS_ENEM_2023.csv\"]\n",
    "# caminho para os itens das provas\n",
    "path_itens = data_dirs[\"DADOS\"][\"ITENS_PROVA_2023.csv\"]\n",
    "\n",
    "# Caminho para o dicionário de variveis dos microdados\n",
    "path_dict_microdados = data_dirs[\"DICIONÁRIO\"][\"MICRODADOS_ENEM_2023.csv\"]\n",
    "# Caminho para o dicionário de variveis dos microdados\n",
    "path_dict_itens = data_dirs[\"DICIONÁRIO\"][\"ITENS_PROVA_2023.csv\"]"
   ]
  },
  {
   "cell_type": "code",
   "execution_count": 4,
   "id": "d27c69bd",
   "metadata": {},
   "outputs": [],
   "source": [
    "dir_data = data_dirs[\"DADOS\"]\n",
    "dir_parquet_data = dir_data[\"MICRODADOS_ENEM_2023_parquet\"]\n",
    "path_parquet_file = dir_data[\"MICRODADOS_ENEM_2023.parquet\"]\n",
    "path_parquet_itens = dir_data[\"ITENS_PROVA_2023.parquet\"]"
   ]
  },
  {
   "cell_type": "code",
   "execution_count": 5,
   "id": "df0e7c72",
   "metadata": {},
   "outputs": [],
   "source": [
    "list_parquet = list(dir_parquet_data.list_file().values())"
   ]
  },
  {
   "cell_type": "markdown",
   "id": "79fa0277",
   "metadata": {},
   "source": [
    "## **Dicionário das variáveis**"
   ]
  },
  {
   "cell_type": "code",
   "execution_count": 6,
   "id": "826971af",
   "metadata": {},
   "outputs": [],
   "source": [
    "dict_microdados = DataDict(path_dict_microdados)\n",
    "dict_itens = ItemDict(path_dict_itens)"
   ]
  },
  {
   "cell_type": "markdown",
   "id": "d4d54163",
   "metadata": {},
   "source": [
    "## **Carregar dados**"
   ]
  },
  {
   "cell_type": "markdown",
   "id": "f323b0dd",
   "metadata": {},
   "source": [
    "### **Carregar Microdado enem**"
   ]
  },
  {
   "cell_type": "code",
   "execution_count": null,
   "id": "e0f243a7",
   "metadata": {},
   "outputs": [],
   "source": [
    "df = pd.read_parquet(path_parquet_file)"
   ]
  },
  {
   "cell_type": "code",
   "execution_count": 7,
   "id": "ca53a890",
   "metadata": {},
   "outputs": [],
   "source": [
    "df1 = pd.read_parquet(list_parquet[0])\n",
    "df2 = pd.read_parquet(list_parquet[0])\n",
    "df = pd.concat([df1,df2])"
   ]
  },
  {
   "cell_type": "markdown",
   "id": "e4c618a2",
   "metadata": {},
   "source": [
    "### **Carregar Itens**"
   ]
  },
  {
   "cell_type": "code",
   "execution_count": 8,
   "id": "1ef96faf",
   "metadata": {},
   "outputs": [],
   "source": [
    "df_items = pd.read_parquet(path_parquet_itens)"
   ]
  },
  {
   "cell_type": "markdown",
   "id": "719dafe6",
   "metadata": {},
   "source": [
    "# **Perguntas**"
   ]
  },
  {
   "cell_type": "markdown",
   "id": "317162aa",
   "metadata": {},
   "source": [
    "### **\"O tipo de escola afeta a nota dos alunos em matemática? Isso pode evidenciar a disparidade de notas no ambiente rural e urbano?\"**"
   ]
  },
  {
   "cell_type": "code",
   "execution_count": null,
   "id": "8bc8b1b3",
   "metadata": {},
   "outputs": [],
   "source": [
    "# variáveis importantes\n",
    "var_names_escola_local = ['TP_ESCOLA', 'TP_LOCALIZACAO_ESC', 'TP_DEPENDENCIA_ADM_ESC', 'NU_NOTA_MT']"
   ]
  },
  {
   "cell_type": "code",
   "execution_count": null,
   "id": "f1f3a34e",
   "metadata": {},
   "outputs": [],
   "source": [
    "# data frame"
   ]
  }
 ],
 "metadata": {
  "kernelspec": {
   "display_name": ".venv",
   "language": "python",
   "name": "python3"
  },
  "language_info": {
   "codemirror_mode": {
    "name": "ipython",
    "version": 3
   },
   "file_extension": ".py",
   "mimetype": "text/x-python",
   "name": "python",
   "nbconvert_exporter": "python",
   "pygments_lexer": "ipython3",
   "version": "3.12.3"
  }
 },
 "nbformat": 4,
 "nbformat_minor": 5
}
