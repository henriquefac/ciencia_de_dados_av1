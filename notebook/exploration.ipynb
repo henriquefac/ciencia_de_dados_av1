{
 "cells": [
  {
   "cell_type": "code",
   "execution_count": 1,
   "metadata": {},
   "outputs": [
    {
     "data": {
      "text/plain": [
       "'/home/henrique/Documents/projects/facudade/ciencia-dos-dados/ciencia_de_dados_av1/.venv/bin/python'"
      ]
     },
     "execution_count": 1,
     "metadata": {},
     "output_type": "execute_result"
    }
   ],
   "source": [
    "# verificar kernel utilizado\n",
    "import sys\n",
    "sys.executable"
   ]
  },
  {
   "cell_type": "code",
   "execution_count": 6,
   "metadata": {},
   "outputs": [],
   "source": [
    "# importar bibliotecas \n",
    "import pandas as pd\n",
    "import numpy as np\n",
    "from config import *\n",
    "import json"
   ]
  },
  {
   "cell_type": "markdown",
   "metadata": {},
   "source": [
    "## Organizar path para arquivos do enem 2023"
   ]
  },
  {
   "cell_type": "code",
   "execution_count": null,
   "metadata": {},
   "outputs": [
    {
     "name": "stdout",
     "output_type": "stream",
     "text": [
      "DICIONÁRIO : /home/henrique/Documents/projects/facudade/ciencia-dos-dados/ciencia_de_dados_av1/files/data/microdados_enem_2023/microdados_enem_2023_extract/DICIONÁRIO\n",
      "PROVAS E GABARITOS : /home/henrique/Documents/projects/facudade/ciencia-dos-dados/ciencia_de_dados_av1/files/data/microdados_enem_2023/microdados_enem_2023_extract/PROVAS E GABARITOS\n",
      "LEIA-ME E DOCUMENTOS TÉCNICOS : /home/henrique/Documents/projects/facudade/ciencia-dos-dados/ciencia_de_dados_av1/files/data/microdados_enem_2023/microdados_enem_2023_extract/LEIA-ME E DOCUMENTOS TÉCNICOS\n",
      "DADOS : /home/henrique/Documents/projects/facudade/ciencia-dos-dados/ciencia_de_dados_av1/files/data/microdados_enem_2023/microdados_enem_2023_extract/DADOS\n",
      "INPUTS : /home/henrique/Documents/projects/facudade/ciencia-dos-dados/ciencia_de_dados_av1/files/data/microdados_enem_2023/microdados_enem_2023_extract/INPUTS\n"
     ]
    }
   ],
   "source": [
    "data_dirs = Config.get_path_dir_data()\n",
    "data_extract = data_dirs[\"microdados_enem_2023\"].list_dir()[\"microdados_enem_2023_extract\"]\n",
    "for key, value in data_extract.list_dir().items():\n",
    "    print(f\"{key} : {value}\")\n",
    "extract_dict = data_extract.list_dir()"
   ]
  },
  {
   "cell_type": "code",
   "execution_count": 12,
   "metadata": {},
   "outputs": [],
   "source": [
    "PATH_DICIONARIO = extract_dict[\"DICIONÁRIO\"]"
   ]
  },
  {
   "cell_type": "markdown",
   "metadata": {},
   "source": []
  }
 ],
 "metadata": {
  "kernelspec": {
   "display_name": ".venv",
   "language": "python",
   "name": "python3"
  },
  "language_info": {
   "codemirror_mode": {
    "name": "ipython",
    "version": 3
   },
   "file_extension": ".py",
   "mimetype": "text/x-python",
   "name": "python",
   "nbconvert_exporter": "python",
   "pygments_lexer": "ipython3",
   "version": "3.12.3"
  }
 },
 "nbformat": 4,
 "nbformat_minor": 2
}
