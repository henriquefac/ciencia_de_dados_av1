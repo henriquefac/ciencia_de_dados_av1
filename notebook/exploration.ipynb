{
 "cells": [
  {
   "cell_type": "code",
   "execution_count": 1,
   "metadata": {},
   "outputs": [
    {
     "data": {
      "text/plain": [
       "'/home/henrique/Documents/projects/facudade/ciencia-dos-dados/ciencia_de_dados_av1/.venv/bin/python'"
      ]
     },
     "execution_count": 1,
     "metadata": {},
     "output_type": "execute_result"
    }
   ],
   "source": [
    "# verificar kernel utilizado\n",
    "import sys\n",
    "sys.executable"
   ]
  },
  {
   "cell_type": "code",
   "execution_count": 2,
   "metadata": {},
   "outputs": [],
   "source": [
    "# importar bibliotecas \n",
    "import pandas as pd\n",
    "import numpy as np\n",
    "from config import *\n",
    "import json"
   ]
  },
  {
   "cell_type": "markdown",
   "metadata": {},
   "source": [
    "## Organizar path para arquivos do enem 2023"
   ]
  },
  {
   "cell_type": "code",
   "execution_count": 3,
   "metadata": {},
   "outputs": [
    {
     "name": "stdout",
     "output_type": "stream",
     "text": [
      "DICIONÁRIO : /home/henrique/Documents/projects/facudade/ciencia-dos-dados/ciencia_de_dados_av1/files/data/microdados_enem_2023/microdados_enem_2023_extract/DICIONÁRIO\n",
      "PROVAS E GABARITOS : /home/henrique/Documents/projects/facudade/ciencia-dos-dados/ciencia_de_dados_av1/files/data/microdados_enem_2023/microdados_enem_2023_extract/PROVAS E GABARITOS\n",
      "LEIA-ME E DOCUMENTOS TÉCNICOS : /home/henrique/Documents/projects/facudade/ciencia-dos-dados/ciencia_de_dados_av1/files/data/microdados_enem_2023/microdados_enem_2023_extract/LEIA-ME E DOCUMENTOS TÉCNICOS\n",
      "DADOS : /home/henrique/Documents/projects/facudade/ciencia-dos-dados/ciencia_de_dados_av1/files/data/microdados_enem_2023/microdados_enem_2023_extract/DADOS\n",
      "INPUTS : /home/henrique/Documents/projects/facudade/ciencia-dos-dados/ciencia_de_dados_av1/files/data/microdados_enem_2023/microdados_enem_2023_extract/INPUTS\n"
     ]
    }
   ],
   "source": [
    "data_dirs = Config.get_path_dir_data()\n",
    "data_extract = data_dirs[\"microdados_enem_2023\"].list_dir()[\"microdados_enem_2023_extract\"]\n",
    "for key, value in data_extract.list_dir().items():\n",
    "    print(f\"{key} : {value}\")\n",
    "extract_dict = data_extract.list_dir()"
   ]
  },
  {
   "cell_type": "code",
   "execution_count": 4,
   "metadata": {},
   "outputs": [],
   "source": [
    "dicionario = extract_dict[\"DICIONÁRIO\"]\n",
    "PATH_DICIONARIO = dicionario.list_file()[\"Dicionário_Microdados_Enem_2023\"]"
   ]
  },
  {
   "cell_type": "markdown",
   "metadata": {},
   "source": [
    "## Carregar dicionário como uma tabela"
   ]
  },
  {
   "cell_type": "code",
   "execution_count": 7,
   "metadata": {},
   "outputs": [],
   "source": [
    "xl_file = pd.ExcelFile(PATH_DICIONARIO)\n",
    "\n",
    "dfs = {sheet_name: xl_file.parse(sheet_name) \n",
    "          for sheet_name in xl_file.sheet_names}"
   ]
  },
  {
   "cell_type": "code",
   "execution_count": 8,
   "metadata": {},
   "outputs": [
    {
     "name": "stdout",
     "output_type": "stream",
     "text": [
      "{'MICRODADOS_ENEM_2023':                    DICIONÁRIO DE VARIÁVEIS - ENEM 2023             Unnamed: 1  \\\n",
      "0                                                  NaN                    NaN   \n",
      "1                                     NOME DA VARIÁVEL              Descrição   \n",
      "2                                                  NaN                    NaN   \n",
      "3                                DADOS DO PARTICIPANTE                    NaN   \n",
      "4                                         NU_INSCRICAO  Número de inscrição1    \n",
      "..                                                 ...                    ...   \n",
      "343  3. Foi considerado treineiro o inscrito que nã...                    NaN   \n",
      "344  4. As 45 primeiras posições deste campo são re...                    NaN   \n",
      "345  5. As 45 primeiras posições deste campo são re...                    NaN   \n",
      "346  6. As 45 primeiras posições deste campo são re...                    NaN   \n",
      "347  7. As 50 primeiras posições deste campo são re...                    NaN   \n",
      "\n",
      "                Unnamed: 2 Unnamed: 3 Unnamed: 4 Unnamed: 5  \n",
      "0                      NaN        NaN        NaN        NaN  \n",
      "1    Variáveis Categóricas        NaN   Tamanho        Tipo  \n",
      "2                Categoria  Descrição        NaN        NaN  \n",
      "3                      NaN        NaN        NaN        NaN  \n",
      "4                      NaN        NaN         12   Numérica  \n",
      "..                     ...        ...        ...        ...  \n",
      "343                    NaN        NaN        NaN        NaN  \n",
      "344                    NaN        NaN        NaN        NaN  \n",
      "345                    NaN        NaN        NaN        NaN  \n",
      "346                    NaN        NaN        NaN        NaN  \n",
      "347                    NaN        NaN        NaN        NaN  \n",
      "\n",
      "[348 rows x 6 columns], 'ITENS_PROVA_2023':                                                 ITENS  \\\n",
      "0                                    NOME DA VARIÁVEL   \n",
      "1                                                 NaN   \n",
      "2                                          CO_POSICAO   \n",
      "3                                             SG_AREA   \n",
      "4                                                 NaN   \n",
      "5                                                 NaN   \n",
      "6                                                 NaN   \n",
      "7                                             CO_ITEM   \n",
      "8                                         TX_GABARITO   \n",
      "9                                       CO_HABILIDADE   \n",
      "10                                       IN_ITEM_ABAN   \n",
      "11                                                NaN   \n",
      "12                                     TX_MOTIVO_ABAN   \n",
      "13                                         NU_PARAM_A   \n",
      "14                                         NU_PARAM_B   \n",
      "15                                         NU_PARAM_C   \n",
      "16                                             TX_COR   \n",
      "17                                           CO_PROVA   \n",
      "18                                          TP_LINGUA   \n",
      "19                                                NaN   \n",
      "20                                   IN_ITEM_ADAPTADO   \n",
      "21                                                NaN   \n",
      "22  1 - Quando TX_GABARITO for igual a \"X\", signif...   \n",
      "\n",
      "                                           Unnamed: 1             Unnamed: 2  \\\n",
      "0                                           Descrição  Variáveis Categóricas   \n",
      "1                                                 NaN              Categoria   \n",
      "2                            Posição do Item na Prova                    NaN   \n",
      "3                        Área de Conhecimento do Item                     CH   \n",
      "4                                                 NaN                     CN   \n",
      "5                                                 NaN                     LC   \n",
      "6                                                 NaN                     MT   \n",
      "7                                      Código do Item                    NaN   \n",
      "8                                   Gabarito do Item¹                    NaN   \n",
      "9                                  Habilidade do Item                    NaN   \n",
      "10                       Indicador de item abandonado                      0   \n",
      "11                                                NaN                      1   \n",
      "12                     Motivo para o abandono do item                    NaN   \n",
      "13  Parâmetro de discriminação: é o poder de discr...                    NaN   \n",
      "14  Parâmetro de dificuldade: associado à dificuld...                    NaN   \n",
      "15  Parâmetro de acerto ao acaso: é a probabilidad...                    NaN   \n",
      "16                                       Cor da Prova                    NaN   \n",
      "17                             Identificador da Prova                    NaN   \n",
      "18                                Língua Estrangeira                       0   \n",
      "19                                                NaN                      1   \n",
      "20                  Item pertencente à prova adaptada                      0   \n",
      "21                                                NaN                      1   \n",
      "22                                                NaN                    NaN   \n",
      "\n",
      "              Unnamed: 3 Unnamed: 4    Unnamed: 5  \n",
      "0                    NaN   Tamanho           Tipo  \n",
      "1              Descrição        NaN           NaN  \n",
      "2                    NaN          3      Numérica  \n",
      "3       Ciências Humanas          2  Alfanumérica  \n",
      "4   Ciências da Natureza        NaN           NaN  \n",
      "5   Linguagens e Códigos        NaN           NaN  \n",
      "6             Matemática        NaN           NaN  \n",
      "7                    NaN          5      Numérica  \n",
      "8                    NaN          1  Alfanumérica  \n",
      "9                    NaN          2      Numérica  \n",
      "10                   Não          1      Numérica  \n",
      "11                   Sim        NaN           NaN  \n",
      "12                   NaN         40  Alfanumérica  \n",
      "13                   NaN          9      Numérica  \n",
      "14                   NaN          9      Numérica  \n",
      "15                   NaN          9      Numérica  \n",
      "16                   NaN          7  Alfanumérica  \n",
      "17                   NaN          3      Numérica  \n",
      "18                Inglês          1      Numérica  \n",
      "19              Espanhol        NaN           NaN  \n",
      "20                   Não          1      Numérica  \n",
      "21                   Sim        NaN           NaN  \n",
      "22                   NaN        NaN           NaN  }\n"
     ]
    }
   ],
   "source": [
    "print(dfs)"
   ]
  }
 ],
 "metadata": {
  "kernelspec": {
   "display_name": ".venv",
   "language": "python",
   "name": "python3"
  },
  "language_info": {
   "codemirror_mode": {
    "name": "ipython",
    "version": 3
   },
   "file_extension": ".py",
   "mimetype": "text/x-python",
   "name": "python",
   "nbconvert_exporter": "python",
   "pygments_lexer": "ipython3",
   "version": "3.12.3"
  }
 },
 "nbformat": 4,
 "nbformat_minor": 2
}
