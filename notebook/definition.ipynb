{
 "cells": [
  {
   "cell_type": "markdown",
   "id": "84c56c49",
   "metadata": {},
   "source": [
    "# 1. Contexto e Definição do Problema"
   ]
  },
  {
   "cell_type": "markdown",
   "id": "e04e99b3",
   "metadata": {},
   "source": [
    "### Sobre a empresa Olist\n",
    "A Olist é uma plataforma brasileira que conecta pequenos lojistas a grandes marketplaces de e-commerce. Ela facilita a operação de vendas online ao cuidar da intermediação comercial, da logística e do atendimento ao cliente.\n",
    "\n",
    "### Objetivo do Projeto\n",
    "O objetivo deste projeto é prever o tempo de entrega dos pedidos realizados através da Olist, utilizando técnicas de aprendizado de máquina. Prever com precisão esse tempo é essencial para melhorar a satisfação do cliente, otimizar processos logísticos e reduzir custos operacionais.\n",
    "\n",
    "### Descrição das amostras e variável alvo\n",
    "Cada amostra do dataset representa um pedido feito por um cliente. A variável alvo (target) que se deseja prever é o **tempo de entrega**, calculado como a diferença entre a data estimada e a data real de entrega.\n",
    "\n",
    "### Principais tabelas utilizadas\n",
    "- `orders`: contém os dados principais dos pedidos (data do pedido, data de entrega, status, etc.).\n",
    "- `order_items`: detalha os itens de cada pedido, incluindo produto, vendedor e preço.\n",
    "- `customers`: traz informações sobre os clientes, incluindo localização.\n",
    "- `sellers`: contém dados sobre os vendedores e suas localizações.\n",
    "- `products`: informações sobre os produtos vendidos.\n",
    "- `geolocation`: dados de latitude e longitude para mapeamento geográfico.\n",
    "\n",
    "### Relação entre as tabelas\n",
    "- A tabela `orders` se conecta com `order_items` via `order_id`.\n",
    "- `order_items` se liga a `products`, `sellers` e `orders`.\n",
    "- `orders` se conecta a `customers` via `customer_id`.\n",
    "- `geolocation` pode ser usada em conjunto com `customers` e `sellers` para mapear localizações.\n",
    "\n",
    "### Relevância prática do problema\n",
    "Entregar um pedido no prazo esperado é um dos principais fatores de satisfação do consumidor em e-commerce. A capacidade de prever atrasos permite que a Olist intervenha proativamente, otimize suas rotas de entrega, informe o cliente com maior precisão e reduza impactos negativos na reputação da empresa.\n"
   ]
  }
 ],
 "metadata": {
  "kernelspec": {
   "display_name": ".venv",
   "language": "python",
   "name": "python3"
  },
  "language_info": {
   "codemirror_mode": {
    "name": "ipython",
    "version": 3
   },
   "file_extension": ".py",
   "mimetype": "text/x-python",
   "name": "python",
   "nbconvert_exporter": "python",
   "pygments_lexer": "ipython3",
   "version": "3.12.8"
  }
 },
 "nbformat": 4,
 "nbformat_minor": 5
}
