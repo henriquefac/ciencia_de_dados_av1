{
 "cells": [
  {
   "cell_type": "code",
   "execution_count": 2,
   "id": "22b1345e",
   "metadata": {},
   "outputs": [],
   "source": [
    "# importar bibliotecas \n",
    "import pandas as pd\n",
    "import numpy as np\n",
    "import matplotlib.pyplot as plt\n",
    "import seaborn as sns\n",
    "from config import Config\n",
    "from src.data_processing import DataDict, ItemDict\n",
    "import json\n",
    "pd.set_option(\"display.width\", None)\n",
    "pd.set_option(\"display.max_columns\", None)\n",
    "pd.set_option(\"display.max_colwidth\", None)\n",
    "\n",
    "\n",
    "from IPython.display import display"
   ]
  },
  {
   "cell_type": "code",
   "execution_count": 3,
   "id": "68d5252f",
   "metadata": {},
   "outputs": [],
   "source": [
    "# diretório dos dados\n",
    "data_dirs = Config.get_path_dir_data()\n",
    "# caminho para o arquivo csv da variáveis e suas categorias\n",
    "path_dict = data_dirs[\"DICIONÁRIO\"][\"MICRODADOS_ENEM_2023.csv\"]\n",
    "\n",
    "# caminho para os microdados do enem 2023\n",
    "path_microdados = data_dirs[\"DADOS\"][\"MICRODADOS_ENEM_2023.csv\"]\n",
    "# caminho para os itens das provas\n",
    "path_itens = data_dirs[\"DADOS\"][\"ITENS_PROVA_2023.csv\"]\n",
    "\n",
    "# Caminho para o dicionário de variveis dos microdados\n",
    "path_dict_microdados = data_dirs[\"DICIONÁRIO\"][\"MICRODADOS_ENEM_2023.csv\"]\n",
    "# Caminho para o dicionário de variveis dos microdados\n",
    "path_dict_itens = data_dirs[\"DICIONÁRIO\"][\"ITENS_PROVA_2023.csv\"]"
   ]
  },
  {
   "cell_type": "code",
   "execution_count": 4,
   "id": "f51e4924",
   "metadata": {},
   "outputs": [],
   "source": [
    "dir_data = data_dirs[\"DADOS\"]\n",
    "dir_parquet_data = dir_data[\"MICRODADOS_ENEM_2023_parquet\"]\n",
    "path_parquet_file = dir_data[\"MICRODADOS_ENEM_2023.parquet\"]\n",
    "path_parquet_itens = dir_data[\"ITENS_PROVA_2023.parquet\"]"
   ]
  },
  {
   "cell_type": "code",
   "execution_count": 5,
   "id": "32858fd8",
   "metadata": {},
   "outputs": [],
   "source": [
    "list_parquet = list(dir_parquet_data.list_file().values())"
   ]
  },
  {
   "cell_type": "markdown",
   "id": "c4c0a7bf",
   "metadata": {},
   "source": [
    "## **Dicionário das variáveis**"
   ]
  },
  {
   "cell_type": "code",
   "execution_count": 6,
   "id": "d4196f6c",
   "metadata": {},
   "outputs": [],
   "source": [
    "dict_microdados = DataDict(path_dict_microdados)\n",
    "dict_itens = ItemDict(path_dict_itens)"
   ]
  },
  {
   "cell_type": "markdown",
   "id": "ec092236",
   "metadata": {},
   "source": [
    "## **Carregar dados**"
   ]
  },
  {
   "cell_type": "markdown",
   "id": "9958d90e",
   "metadata": {},
   "source": [
    "### **Carregar Microdado enem**"
   ]
  },
  {
   "cell_type": "code",
   "execution_count": null,
   "id": "59e1ef2c",
   "metadata": {},
   "outputs": [],
   "source": [
    "df = pd.read_parquet(path_parquet_file)"
   ]
  },
  {
   "cell_type": "code",
   "execution_count": 7,
   "id": "a79e5f46",
   "metadata": {},
   "outputs": [],
   "source": [
    "df1 = pd.read_parquet(list_parquet[0])\n",
    "df2 = pd.read_parquet(list_parquet[0])\n",
    "df = pd.concat([df1,df2])"
   ]
  },
  {
   "cell_type": "markdown",
   "id": "c210d8ad",
   "metadata": {},
   "source": [
    "### **Carregar Itens**"
   ]
  },
  {
   "cell_type": "code",
   "execution_count": 8,
   "id": "a991c444",
   "metadata": {},
   "outputs": [],
   "source": [
    "df_items = pd.read_parquet(path_parquet_itens)"
   ]
  },
  {
   "cell_type": "markdown",
   "id": "0c046d74",
   "metadata": {},
   "source": [
    "# **Perguntas**"
   ]
  },
  {
   "cell_type": "markdown",
   "id": "14c467c9",
   "metadata": {},
   "source": [
    "### **\"Qual o perfil socioeconômico dos candidatos de maior nota na prova de matemática\"**"
   ]
  },
  {
   "cell_type": "code",
   "execution_count": 14,
   "id": "c11e856e",
   "metadata": {},
   "outputs": [],
   "source": [
    "# Definir grupo de maior nota usando cerca de tukey\n",
    "notas_matematica = df[df[\"NU_NOTA_MT\"] > 0].dropna()[\"NU_NOTA_MT\"]\n"
   ]
  },
  {
   "cell_type": "code",
   "execution_count": 16,
   "id": "5586452c",
   "metadata": {},
   "outputs": [],
   "source": [
    "Q1 = notas_matematica.quantile(0.25)\n",
    "Q3 = notas_matematica.quantile(0.75)\n",
    "IQR = Q3 - Q1\n",
    "\n",
    "limite_inferior = Q1 - 1.5 * IQR\n",
    "limite_superior = Q3 + 1.5 * IQR\n"
   ]
  },
  {
   "cell_type": "code",
   "execution_count": null,
   "id": "624258ca",
   "metadata": {},
   "outputs": [],
   "source": []
  }
 ],
 "metadata": {
  "kernelspec": {
   "display_name": ".venv",
   "language": "python",
   "name": "python3"
  },
  "language_info": {
   "codemirror_mode": {
    "name": "ipython",
    "version": 3
   },
   "file_extension": ".py",
   "mimetype": "text/x-python",
   "name": "python",
   "nbconvert_exporter": "python",
   "pygments_lexer": "ipython3",
   "version": "3.12.3"
  }
 },
 "nbformat": 4,
 "nbformat_minor": 5
}
