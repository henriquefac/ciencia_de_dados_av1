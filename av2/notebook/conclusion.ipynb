{
 "cells": [
  {
   "cell_type": "markdown",
   "id": "71e5e5ac",
   "metadata": {},
   "source": [
    "# 5. Avaliação e Conclusão"
   ]
  },
  {
   "cell_type": "code",
   "execution_count": 2,
   "id": "a812bd97",
   "metadata": {},
   "outputs": [],
   "source": [
    "import pandas as pd\n",
    "from sklearn.metrics import mean_squared_error, mean_absolute_error, r2_score\n",
    "import matplotlib.pyplot as plt"
   ]
  },
  {
   "cell_type": "markdown",
   "id": "1e11d207",
   "metadata": {},
   "source": [
    "## Resultados dos modelos passados:"
   ]
  },
  {
   "cell_type": "markdown",
   "id": "7a1bf4ff",
   "metadata": {},
   "source": [
    "Regressão Linear\n",
    "  * MSE: 1.0483\n",
    "  * R²: -0.0009\n",
    "\n",
    "Random Forest\n",
    "  * RMSE: 1.0482\n",
    "  * R²: -0.0008\n",
    "\n",
    "KNN\n",
    "  * RMSE: 1.2297\n",
    "  * R²: -0.3773\n",
    "\n",
    "Random Forest (GridSearch)\n",
    "  * RMSE: 1.2297\n",
    "  * R²: -0.0008\n"
   ]
  },
  {
   "cell_type": "code",
   "execution_count": null,
   "id": "7406ffc4",
   "metadata": {},
   "outputs": [],
   "source": [
    "df = pd.read_csv('../dataset/olist_orders_dataset.csv')\n",
    "df.head()"
   ]
  }
 ],
 "metadata": {
  "kernelspec": {
   "display_name": ".venv",
   "language": "python",
   "name": "python3"
  },
  "language_info": {
   "codemirror_mode": {
    "name": "ipython",
    "version": 3
   },
   "file_extension": ".py",
   "mimetype": "text/x-python",
   "name": "python",
   "nbconvert_exporter": "python",
   "pygments_lexer": "ipython3",
   "version": "3.12.8"
  }
 },
 "nbformat": 4,
 "nbformat_minor": 5
}
