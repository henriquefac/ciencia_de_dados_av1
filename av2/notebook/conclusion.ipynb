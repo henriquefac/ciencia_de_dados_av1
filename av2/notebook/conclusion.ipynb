{
 "cells": [
  {
   "cell_type": "markdown",
   "id": "71e5e5ac",
   "metadata": {},
   "source": [
    "# 5. Avaliação e Conclusão"
   ]
  },
  {
   "cell_type": "code",
   "execution_count": 2,
   "id": "a812bd97",
   "metadata": {},
   "outputs": [],
   "source": [
    "import pandas as pd\n",
    "from sklearn.metrics import mean_squared_error, mean_absolute_error, r2_score\n",
    "import matplotlib.pyplot as plt"
   ]
  },
  {
   "cell_type": "code",
   "execution_count": null,
   "id": "7406ffc4",
   "metadata": {},
   "outputs": [],
   "source": [
    "df = pd.read_csv('../dataset/olist_orders_dataset.csv')\n",
    "df.head()"
   ]
  }
 ],
 "metadata": {
  "kernelspec": {
   "display_name": ".venv",
   "language": "python",
   "name": "python3"
  },
  "language_info": {
   "codemirror_mode": {
    "name": "ipython",
    "version": 3
   },
   "file_extension": ".py",
   "mimetype": "text/x-python",
   "name": "python",
   "nbconvert_exporter": "python",
   "pygments_lexer": "ipython3",
   "version": "3.12.8"
  }
 },
 "nbformat": 4,
 "nbformat_minor": 5
}
