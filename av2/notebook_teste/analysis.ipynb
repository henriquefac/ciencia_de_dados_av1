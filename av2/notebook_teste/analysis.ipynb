{
 "cells": [
  {
   "cell_type": "code",
   "execution_count": 28,
   "id": "6bc10491",
   "metadata": {},
   "outputs": [],
   "source": [
    "# explorar dados\n",
    "\n",
    "import pandas as pd\n",
    "from config import Config\n",
    "import re"
   ]
  },
  {
   "cell_type": "code",
   "execution_count": 19,
   "id": "920ee606",
   "metadata": {},
   "outputs": [
    {
     "name": "stdout",
     "output_type": "stream",
     "text": [
      "/home/henrique/Documents/projects/facudade/ciencia-dos-dados/ciencia_de_dados_av1/av2/datasets/datasets-originais/olist_customers_dataset.csv\n",
      "/home/henrique/Documents/projects/facudade/ciencia-dos-dados/ciencia_de_dados_av1/av2/datasets/datasets-originais/olist_geolocation_dataset.csv\n",
      "/home/henrique/Documents/projects/facudade/ciencia-dos-dados/ciencia_de_dados_av1/av2/datasets/datasets-originais/olist_order_items_dataset.csv\n",
      "/home/henrique/Documents/projects/facudade/ciencia-dos-dados/ciencia_de_dados_av1/av2/datasets/datasets-originais/olist_orders_dataset.csv\n",
      "/home/henrique/Documents/projects/facudade/ciencia-dos-dados/ciencia_de_dados_av1/av2/datasets/datasets-originais/olist_products_dataset.csv\n",
      "/home/henrique/Documents/projects/facudade/ciencia-dos-dados/ciencia_de_dados_av1/av2/datasets/datasets-originais/olist_sellers_dataset.csv\n"
     ]
    }
   ],
   "source": [
    "# acessar dados\n",
    "\n",
    "get_name = lambda x: f\"olist_{x}_dataset.csv\"\n",
    "\n",
    "dataset = Config.get_path_dir_dataset()\n",
    "\n",
    "# dataset dos clientes\n",
    "dataset_customers = dataset[get_name(\"customers\")]\n",
    "print(dataset_customers)\n",
    "\n",
    "# dataset de geolocalização\n",
    "dataset_geo = dataset[get_name(\"geolocation\")]\n",
    "print(dataset_geo)\n",
    "\n",
    "# dataset dos items dos pedidos\n",
    "dataset_order_items = dataset[get_name(\"order_items\")]\n",
    "print(dataset_order_items)\n",
    "\n",
    "# dataset pedidos\n",
    "dataset_orders = dataset[get_name(\"orders\")]\n",
    "print(dataset_orders)\n",
    "\n",
    "# dataset produtos\n",
    "dataset_products = dataset[get_name(\"products\")]\n",
    "print(dataset_products)\n",
    "\n",
    "# dataset vendedores\n",
    "dataset_sellers = dataset[get_name(\"sellers\")]\n",
    "print(dataset_sellers)"
   ]
  },
  {
   "cell_type": "markdown",
   "id": "001acd72",
   "metadata": {},
   "source": [
    "## Analisar cada uma das tabelas"
   ]
  },
  {
   "cell_type": "markdown",
   "id": "779d715d",
   "metadata": {},
   "source": [
    "### Orders"
   ]
  },
  {
   "cell_type": "code",
   "execution_count": 4,
   "id": "0f802a73",
   "metadata": {},
   "outputs": [],
   "source": [
    "# primeiramente, a tabela principal, os pedidos\n",
    "\n",
    "df_orders = pd.read_csv(dataset_orders)"
   ]
  },
  {
   "cell_type": "code",
   "execution_count": 5,
   "id": "92ea8d0f",
   "metadata": {},
   "outputs": [
    {
     "data": {
      "text/html": [
       "<div>\n",
       "<style scoped>\n",
       "    .dataframe tbody tr th:only-of-type {\n",
       "        vertical-align: middle;\n",
       "    }\n",
       "\n",
       "    .dataframe tbody tr th {\n",
       "        vertical-align: top;\n",
       "    }\n",
       "\n",
       "    .dataframe thead th {\n",
       "        text-align: right;\n",
       "    }\n",
       "</style>\n",
       "<table border=\"1\" class=\"dataframe\">\n",
       "  <thead>\n",
       "    <tr style=\"text-align: right;\">\n",
       "      <th></th>\n",
       "      <th>order_id</th>\n",
       "      <th>customer_id</th>\n",
       "      <th>order_status</th>\n",
       "      <th>order_purchase_timestamp</th>\n",
       "      <th>order_approved_at</th>\n",
       "      <th>order_delivered_carrier_date</th>\n",
       "      <th>order_delivered_customer_date</th>\n",
       "      <th>order_estimated_delivery_date</th>\n",
       "    </tr>\n",
       "  </thead>\n",
       "  <tbody>\n",
       "    <tr>\n",
       "      <th>0</th>\n",
       "      <td>e481f51cbdc54678b7cc49136f2d6af7</td>\n",
       "      <td>9ef432eb6251297304e76186b10a928d</td>\n",
       "      <td>delivered</td>\n",
       "      <td>2017-10-02 10:56:33</td>\n",
       "      <td>2017-10-02 11:07:15</td>\n",
       "      <td>2017-10-04 19:55:00</td>\n",
       "      <td>2017-10-10 21:25:13</td>\n",
       "      <td>2017-10-18 00:00:00</td>\n",
       "    </tr>\n",
       "    <tr>\n",
       "      <th>1</th>\n",
       "      <td>53cdb2fc8bc7dce0b6741e2150273451</td>\n",
       "      <td>b0830fb4747a6c6d20dea0b8c802d7ef</td>\n",
       "      <td>delivered</td>\n",
       "      <td>2018-07-24 20:41:37</td>\n",
       "      <td>2018-07-26 03:24:27</td>\n",
       "      <td>2018-07-26 14:31:00</td>\n",
       "      <td>2018-08-07 15:27:45</td>\n",
       "      <td>2018-08-13 00:00:00</td>\n",
       "    </tr>\n",
       "    <tr>\n",
       "      <th>2</th>\n",
       "      <td>47770eb9100c2d0c44946d9cf07ec65d</td>\n",
       "      <td>41ce2a54c0b03bf3443c3d931a367089</td>\n",
       "      <td>delivered</td>\n",
       "      <td>2018-08-08 08:38:49</td>\n",
       "      <td>2018-08-08 08:55:23</td>\n",
       "      <td>2018-08-08 13:50:00</td>\n",
       "      <td>2018-08-17 18:06:29</td>\n",
       "      <td>2018-09-04 00:00:00</td>\n",
       "    </tr>\n",
       "    <tr>\n",
       "      <th>3</th>\n",
       "      <td>949d5b44dbf5de918fe9c16f97b45f8a</td>\n",
       "      <td>f88197465ea7920adcdbec7375364d82</td>\n",
       "      <td>delivered</td>\n",
       "      <td>2017-11-18 19:28:06</td>\n",
       "      <td>2017-11-18 19:45:59</td>\n",
       "      <td>2017-11-22 13:39:59</td>\n",
       "      <td>2017-12-02 00:28:42</td>\n",
       "      <td>2017-12-15 00:00:00</td>\n",
       "    </tr>\n",
       "    <tr>\n",
       "      <th>4</th>\n",
       "      <td>ad21c59c0840e6cb83a9ceb5573f8159</td>\n",
       "      <td>8ab97904e6daea8866dbdbc4fb7aad2c</td>\n",
       "      <td>delivered</td>\n",
       "      <td>2018-02-13 21:18:39</td>\n",
       "      <td>2018-02-13 22:20:29</td>\n",
       "      <td>2018-02-14 19:46:34</td>\n",
       "      <td>2018-02-16 18:17:02</td>\n",
       "      <td>2018-02-26 00:00:00</td>\n",
       "    </tr>\n",
       "  </tbody>\n",
       "</table>\n",
       "</div>"
      ],
      "text/plain": [
       "                           order_id                       customer_id  \\\n",
       "0  e481f51cbdc54678b7cc49136f2d6af7  9ef432eb6251297304e76186b10a928d   \n",
       "1  53cdb2fc8bc7dce0b6741e2150273451  b0830fb4747a6c6d20dea0b8c802d7ef   \n",
       "2  47770eb9100c2d0c44946d9cf07ec65d  41ce2a54c0b03bf3443c3d931a367089   \n",
       "3  949d5b44dbf5de918fe9c16f97b45f8a  f88197465ea7920adcdbec7375364d82   \n",
       "4  ad21c59c0840e6cb83a9ceb5573f8159  8ab97904e6daea8866dbdbc4fb7aad2c   \n",
       "\n",
       "  order_status order_purchase_timestamp    order_approved_at  \\\n",
       "0    delivered      2017-10-02 10:56:33  2017-10-02 11:07:15   \n",
       "1    delivered      2018-07-24 20:41:37  2018-07-26 03:24:27   \n",
       "2    delivered      2018-08-08 08:38:49  2018-08-08 08:55:23   \n",
       "3    delivered      2017-11-18 19:28:06  2017-11-18 19:45:59   \n",
       "4    delivered      2018-02-13 21:18:39  2018-02-13 22:20:29   \n",
       "\n",
       "  order_delivered_carrier_date order_delivered_customer_date  \\\n",
       "0          2017-10-04 19:55:00           2017-10-10 21:25:13   \n",
       "1          2018-07-26 14:31:00           2018-08-07 15:27:45   \n",
       "2          2018-08-08 13:50:00           2018-08-17 18:06:29   \n",
       "3          2017-11-22 13:39:59           2017-12-02 00:28:42   \n",
       "4          2018-02-14 19:46:34           2018-02-16 18:17:02   \n",
       "\n",
       "  order_estimated_delivery_date  \n",
       "0           2017-10-18 00:00:00  \n",
       "1           2018-08-13 00:00:00  \n",
       "2           2018-09-04 00:00:00  \n",
       "3           2017-12-15 00:00:00  \n",
       "4           2018-02-26 00:00:00  "
      ]
     },
     "execution_count": 5,
     "metadata": {},
     "output_type": "execute_result"
    }
   ],
   "source": [
    "df_orders.head()"
   ]
  },
  {
   "cell_type": "code",
   "execution_count": null,
   "id": "e49ee57f",
   "metadata": {},
   "outputs": [],
   "source": [
    "# order_id: id único da compra\n",
    "# customer_id: id único do cliente que fez a compra\n",
    "# order_status: Se foi entregue ou não\n",
    "# order_purchase_timestamp: data e horário da compra\n",
    "# order_aproved_at: data de aprovação do pagamento\n",
    "# order_delivered_carrier_date: data de entrega do produto para parceiro de logistica\n",
    "# order_delivered_customer_date: data de entrega efetiva para o cliente\n",
    "# order_estimated_delivery_date: data de entrega estimada"
   ]
  },
  {
   "cell_type": "code",
   "execution_count": null,
   "id": "1ea70973",
   "metadata": {},
   "outputs": [],
   "source": [
    "# escolher quais colunas vamos utilizar\n",
    "\n",
    "# order_id\n",
    "# cutomer_id\n",
    "# order_status\n"
   ]
  },
  {
   "cell_type": "markdown",
   "id": "8ecbfe78",
   "metadata": {},
   "source": [
    "### Cutomers"
   ]
  },
  {
   "cell_type": "code",
   "execution_count": 6,
   "id": "47749158",
   "metadata": {},
   "outputs": [],
   "source": [
    "df_customers = pd.read_csv(dataset_customers)"
   ]
  },
  {
   "cell_type": "code",
   "execution_count": 7,
   "id": "5497bd41",
   "metadata": {},
   "outputs": [
    {
     "data": {
      "text/html": [
       "<div>\n",
       "<style scoped>\n",
       "    .dataframe tbody tr th:only-of-type {\n",
       "        vertical-align: middle;\n",
       "    }\n",
       "\n",
       "    .dataframe tbody tr th {\n",
       "        vertical-align: top;\n",
       "    }\n",
       "\n",
       "    .dataframe thead th {\n",
       "        text-align: right;\n",
       "    }\n",
       "</style>\n",
       "<table border=\"1\" class=\"dataframe\">\n",
       "  <thead>\n",
       "    <tr style=\"text-align: right;\">\n",
       "      <th></th>\n",
       "      <th>customer_id</th>\n",
       "      <th>customer_unique_id</th>\n",
       "      <th>customer_zip_code_prefix</th>\n",
       "      <th>customer_city</th>\n",
       "      <th>customer_state</th>\n",
       "    </tr>\n",
       "  </thead>\n",
       "  <tbody>\n",
       "    <tr>\n",
       "      <th>0</th>\n",
       "      <td>06b8999e2fba1a1fbc88172c00ba8bc7</td>\n",
       "      <td>861eff4711a542e4b93843c6dd7febb0</td>\n",
       "      <td>14409</td>\n",
       "      <td>franca</td>\n",
       "      <td>SP</td>\n",
       "    </tr>\n",
       "    <tr>\n",
       "      <th>1</th>\n",
       "      <td>18955e83d337fd6b2def6b18a428ac77</td>\n",
       "      <td>290c77bc529b7ac935b93aa66c333dc3</td>\n",
       "      <td>9790</td>\n",
       "      <td>sao bernardo do campo</td>\n",
       "      <td>SP</td>\n",
       "    </tr>\n",
       "    <tr>\n",
       "      <th>2</th>\n",
       "      <td>4e7b3e00288586ebd08712fdd0374a03</td>\n",
       "      <td>060e732b5b29e8181a18229c7b0b2b5e</td>\n",
       "      <td>1151</td>\n",
       "      <td>sao paulo</td>\n",
       "      <td>SP</td>\n",
       "    </tr>\n",
       "    <tr>\n",
       "      <th>3</th>\n",
       "      <td>b2b6027bc5c5109e529d4dc6358b12c3</td>\n",
       "      <td>259dac757896d24d7702b9acbbff3f3c</td>\n",
       "      <td>8775</td>\n",
       "      <td>mogi das cruzes</td>\n",
       "      <td>SP</td>\n",
       "    </tr>\n",
       "    <tr>\n",
       "      <th>4</th>\n",
       "      <td>4f2d8ab171c80ec8364f7c12e35b23ad</td>\n",
       "      <td>345ecd01c38d18a9036ed96c73b8d066</td>\n",
       "      <td>13056</td>\n",
       "      <td>campinas</td>\n",
       "      <td>SP</td>\n",
       "    </tr>\n",
       "  </tbody>\n",
       "</table>\n",
       "</div>"
      ],
      "text/plain": [
       "                        customer_id                customer_unique_id  \\\n",
       "0  06b8999e2fba1a1fbc88172c00ba8bc7  861eff4711a542e4b93843c6dd7febb0   \n",
       "1  18955e83d337fd6b2def6b18a428ac77  290c77bc529b7ac935b93aa66c333dc3   \n",
       "2  4e7b3e00288586ebd08712fdd0374a03  060e732b5b29e8181a18229c7b0b2b5e   \n",
       "3  b2b6027bc5c5109e529d4dc6358b12c3  259dac757896d24d7702b9acbbff3f3c   \n",
       "4  4f2d8ab171c80ec8364f7c12e35b23ad  345ecd01c38d18a9036ed96c73b8d066   \n",
       "\n",
       "   customer_zip_code_prefix          customer_city customer_state  \n",
       "0                     14409                 franca             SP  \n",
       "1                      9790  sao bernardo do campo             SP  \n",
       "2                      1151              sao paulo             SP  \n",
       "3                      8775        mogi das cruzes             SP  \n",
       "4                     13056               campinas             SP  "
      ]
     },
     "execution_count": 7,
     "metadata": {},
     "output_type": "execute_result"
    }
   ],
   "source": [
    "df_customers.head()"
   ]
  },
  {
   "cell_type": "code",
   "execution_count": null,
   "id": "2c42e4d8",
   "metadata": {},
   "outputs": [],
   "source": [
    "# customer_id: chave para a tabela de pedidos\n",
    "# customer_unique_id: identificação única do cliente\n",
    "# customer_zip_code_prefix: cinco primeiros dígitos do CEP\n",
    "# customer_city: cidade do cliente\n",
    "# customer_state: estado do cliente"
   ]
  },
  {
   "cell_type": "markdown",
   "id": "6ebc858c",
   "metadata": {},
   "source": [
    "### Items Order"
   ]
  },
  {
   "cell_type": "code",
   "execution_count": 8,
   "id": "a1b43c30",
   "metadata": {},
   "outputs": [],
   "source": [
    "df_order_items = pd.read_csv(dataset_order_items)"
   ]
  },
  {
   "cell_type": "code",
   "execution_count": 9,
   "id": "a7f8e894",
   "metadata": {},
   "outputs": [
    {
     "data": {
      "text/html": [
       "<div>\n",
       "<style scoped>\n",
       "    .dataframe tbody tr th:only-of-type {\n",
       "        vertical-align: middle;\n",
       "    }\n",
       "\n",
       "    .dataframe tbody tr th {\n",
       "        vertical-align: top;\n",
       "    }\n",
       "\n",
       "    .dataframe thead th {\n",
       "        text-align: right;\n",
       "    }\n",
       "</style>\n",
       "<table border=\"1\" class=\"dataframe\">\n",
       "  <thead>\n",
       "    <tr style=\"text-align: right;\">\n",
       "      <th></th>\n",
       "      <th>order_id</th>\n",
       "      <th>order_item_id</th>\n",
       "      <th>product_id</th>\n",
       "      <th>seller_id</th>\n",
       "      <th>shipping_limit_date</th>\n",
       "      <th>price</th>\n",
       "      <th>freight_value</th>\n",
       "    </tr>\n",
       "  </thead>\n",
       "  <tbody>\n",
       "    <tr>\n",
       "      <th>0</th>\n",
       "      <td>00010242fe8c5a6d1ba2dd792cb16214</td>\n",
       "      <td>1</td>\n",
       "      <td>4244733e06e7ecb4970a6e2683c13e61</td>\n",
       "      <td>48436dade18ac8b2bce089ec2a041202</td>\n",
       "      <td>2017-09-19 09:45:35</td>\n",
       "      <td>58.90</td>\n",
       "      <td>13.29</td>\n",
       "    </tr>\n",
       "    <tr>\n",
       "      <th>1</th>\n",
       "      <td>00018f77f2f0320c557190d7a144bdd3</td>\n",
       "      <td>1</td>\n",
       "      <td>e5f2d52b802189ee658865ca93d83a8f</td>\n",
       "      <td>dd7ddc04e1b6c2c614352b383efe2d36</td>\n",
       "      <td>2017-05-03 11:05:13</td>\n",
       "      <td>239.90</td>\n",
       "      <td>19.93</td>\n",
       "    </tr>\n",
       "    <tr>\n",
       "      <th>2</th>\n",
       "      <td>000229ec398224ef6ca0657da4fc703e</td>\n",
       "      <td>1</td>\n",
       "      <td>c777355d18b72b67abbeef9df44fd0fd</td>\n",
       "      <td>5b51032eddd242adc84c38acab88f23d</td>\n",
       "      <td>2018-01-18 14:48:30</td>\n",
       "      <td>199.00</td>\n",
       "      <td>17.87</td>\n",
       "    </tr>\n",
       "    <tr>\n",
       "      <th>3</th>\n",
       "      <td>00024acbcdf0a6daa1e931b038114c75</td>\n",
       "      <td>1</td>\n",
       "      <td>7634da152a4610f1595efa32f14722fc</td>\n",
       "      <td>9d7a1d34a5052409006425275ba1c2b4</td>\n",
       "      <td>2018-08-15 10:10:18</td>\n",
       "      <td>12.99</td>\n",
       "      <td>12.79</td>\n",
       "    </tr>\n",
       "    <tr>\n",
       "      <th>4</th>\n",
       "      <td>00042b26cf59d7ce69dfabb4e55b4fd9</td>\n",
       "      <td>1</td>\n",
       "      <td>ac6c3623068f30de03045865e4e10089</td>\n",
       "      <td>df560393f3a51e74553ab94004ba5c87</td>\n",
       "      <td>2017-02-13 13:57:51</td>\n",
       "      <td>199.90</td>\n",
       "      <td>18.14</td>\n",
       "    </tr>\n",
       "  </tbody>\n",
       "</table>\n",
       "</div>"
      ],
      "text/plain": [
       "                           order_id  order_item_id  \\\n",
       "0  00010242fe8c5a6d1ba2dd792cb16214              1   \n",
       "1  00018f77f2f0320c557190d7a144bdd3              1   \n",
       "2  000229ec398224ef6ca0657da4fc703e              1   \n",
       "3  00024acbcdf0a6daa1e931b038114c75              1   \n",
       "4  00042b26cf59d7ce69dfabb4e55b4fd9              1   \n",
       "\n",
       "                         product_id                         seller_id  \\\n",
       "0  4244733e06e7ecb4970a6e2683c13e61  48436dade18ac8b2bce089ec2a041202   \n",
       "1  e5f2d52b802189ee658865ca93d83a8f  dd7ddc04e1b6c2c614352b383efe2d36   \n",
       "2  c777355d18b72b67abbeef9df44fd0fd  5b51032eddd242adc84c38acab88f23d   \n",
       "3  7634da152a4610f1595efa32f14722fc  9d7a1d34a5052409006425275ba1c2b4   \n",
       "4  ac6c3623068f30de03045865e4e10089  df560393f3a51e74553ab94004ba5c87   \n",
       "\n",
       "   shipping_limit_date   price  freight_value  \n",
       "0  2017-09-19 09:45:35   58.90          13.29  \n",
       "1  2017-05-03 11:05:13  239.90          19.93  \n",
       "2  2018-01-18 14:48:30  199.00          17.87  \n",
       "3  2018-08-15 10:10:18   12.99          12.79  \n",
       "4  2017-02-13 13:57:51  199.90          18.14  "
      ]
     },
     "execution_count": 9,
     "metadata": {},
     "output_type": "execute_result"
    }
   ],
   "source": [
    "df_order_items.head()"
   ]
  },
  {
   "cell_type": "code",
   "execution_count": null,
   "id": "9587dd40",
   "metadata": {},
   "outputs": [],
   "source": [
    "# order_id: id do padido, se conecta a tabela de pedidos\n",
    "# order_item_id: sequential number identifying number of items included in the same order\n",
    "# product_id: id único do produto\n",
    "# seller_id: id do vendedor, para se conectar a tabela do vendedor\n",
    "# shipping_limit_date: Shows the seller shipping limit date for handling the order over to the logistic partner.\n",
    "# price: preço do produto\n",
    "# item freight value item (if an order has more than one item the freight value is splitted between items)"
   ]
  },
  {
   "cell_type": "markdown",
   "id": "6c340205",
   "metadata": {},
   "source": [
    "### Olist products"
   ]
  },
  {
   "cell_type": "code",
   "execution_count": 11,
   "id": "cf747748",
   "metadata": {},
   "outputs": [],
   "source": [
    "df_products = pd.read_csv(dataset_products)"
   ]
  },
  {
   "cell_type": "code",
   "execution_count": 12,
   "id": "487cb43a",
   "metadata": {},
   "outputs": [
    {
     "data": {
      "text/html": [
       "<div>\n",
       "<style scoped>\n",
       "    .dataframe tbody tr th:only-of-type {\n",
       "        vertical-align: middle;\n",
       "    }\n",
       "\n",
       "    .dataframe tbody tr th {\n",
       "        vertical-align: top;\n",
       "    }\n",
       "\n",
       "    .dataframe thead th {\n",
       "        text-align: right;\n",
       "    }\n",
       "</style>\n",
       "<table border=\"1\" class=\"dataframe\">\n",
       "  <thead>\n",
       "    <tr style=\"text-align: right;\">\n",
       "      <th></th>\n",
       "      <th>product_id</th>\n",
       "      <th>product_category_name</th>\n",
       "      <th>product_name_lenght</th>\n",
       "      <th>product_description_lenght</th>\n",
       "      <th>product_photos_qty</th>\n",
       "      <th>product_weight_g</th>\n",
       "      <th>product_length_cm</th>\n",
       "      <th>product_height_cm</th>\n",
       "      <th>product_width_cm</th>\n",
       "    </tr>\n",
       "  </thead>\n",
       "  <tbody>\n",
       "    <tr>\n",
       "      <th>0</th>\n",
       "      <td>1e9e8ef04dbcff4541ed26657ea517e5</td>\n",
       "      <td>perfumaria</td>\n",
       "      <td>40.0</td>\n",
       "      <td>287.0</td>\n",
       "      <td>1.0</td>\n",
       "      <td>225.0</td>\n",
       "      <td>16.0</td>\n",
       "      <td>10.0</td>\n",
       "      <td>14.0</td>\n",
       "    </tr>\n",
       "    <tr>\n",
       "      <th>1</th>\n",
       "      <td>3aa071139cb16b67ca9e5dea641aaa2f</td>\n",
       "      <td>artes</td>\n",
       "      <td>44.0</td>\n",
       "      <td>276.0</td>\n",
       "      <td>1.0</td>\n",
       "      <td>1000.0</td>\n",
       "      <td>30.0</td>\n",
       "      <td>18.0</td>\n",
       "      <td>20.0</td>\n",
       "    </tr>\n",
       "    <tr>\n",
       "      <th>2</th>\n",
       "      <td>96bd76ec8810374ed1b65e291975717f</td>\n",
       "      <td>esporte_lazer</td>\n",
       "      <td>46.0</td>\n",
       "      <td>250.0</td>\n",
       "      <td>1.0</td>\n",
       "      <td>154.0</td>\n",
       "      <td>18.0</td>\n",
       "      <td>9.0</td>\n",
       "      <td>15.0</td>\n",
       "    </tr>\n",
       "    <tr>\n",
       "      <th>3</th>\n",
       "      <td>cef67bcfe19066a932b7673e239eb23d</td>\n",
       "      <td>bebes</td>\n",
       "      <td>27.0</td>\n",
       "      <td>261.0</td>\n",
       "      <td>1.0</td>\n",
       "      <td>371.0</td>\n",
       "      <td>26.0</td>\n",
       "      <td>4.0</td>\n",
       "      <td>26.0</td>\n",
       "    </tr>\n",
       "    <tr>\n",
       "      <th>4</th>\n",
       "      <td>9dc1a7de274444849c219cff195d0b71</td>\n",
       "      <td>utilidades_domesticas</td>\n",
       "      <td>37.0</td>\n",
       "      <td>402.0</td>\n",
       "      <td>4.0</td>\n",
       "      <td>625.0</td>\n",
       "      <td>20.0</td>\n",
       "      <td>17.0</td>\n",
       "      <td>13.0</td>\n",
       "    </tr>\n",
       "  </tbody>\n",
       "</table>\n",
       "</div>"
      ],
      "text/plain": [
       "                         product_id  product_category_name  \\\n",
       "0  1e9e8ef04dbcff4541ed26657ea517e5             perfumaria   \n",
       "1  3aa071139cb16b67ca9e5dea641aaa2f                  artes   \n",
       "2  96bd76ec8810374ed1b65e291975717f          esporte_lazer   \n",
       "3  cef67bcfe19066a932b7673e239eb23d                  bebes   \n",
       "4  9dc1a7de274444849c219cff195d0b71  utilidades_domesticas   \n",
       "\n",
       "   product_name_lenght  product_description_lenght  product_photos_qty  \\\n",
       "0                 40.0                       287.0                 1.0   \n",
       "1                 44.0                       276.0                 1.0   \n",
       "2                 46.0                       250.0                 1.0   \n",
       "3                 27.0                       261.0                 1.0   \n",
       "4                 37.0                       402.0                 4.0   \n",
       "\n",
       "   product_weight_g  product_length_cm  product_height_cm  product_width_cm  \n",
       "0             225.0               16.0               10.0              14.0  \n",
       "1            1000.0               30.0               18.0              20.0  \n",
       "2             154.0               18.0                9.0              15.0  \n",
       "3             371.0               26.0                4.0              26.0  \n",
       "4             625.0               20.0               17.0              13.0  "
      ]
     },
     "execution_count": 12,
     "metadata": {},
     "output_type": "execute_result"
    }
   ],
   "source": [
    "df_products.head()"
   ]
  },
  {
   "cell_type": "code",
   "execution_count": 13,
   "id": "581c1e88",
   "metadata": {},
   "outputs": [],
   "source": [
    "# product_id: identificaor únicod do produto\n",
    "# product_category_name: nome da categoria do produto\n",
    "# product_name_lenght: número de carateres estraído do nome do produto\n",
    "# product_description_lenght: número de caracteres estraído da descrição do produto\n",
    "# product_photos_qty: qunatidade de fotos do produto\n",
    "# product_weight_g: peso do produto\n",
    "# product_length_cm: comprimento\n",
    "# product_height_cm: altura\n",
    "# product_width_cm: largura"
   ]
  },
  {
   "cell_type": "markdown",
   "id": "e4740f13",
   "metadata": {},
   "source": [
    "### Sellers"
   ]
  },
  {
   "cell_type": "code",
   "execution_count": 14,
   "id": "aa747e1d",
   "metadata": {},
   "outputs": [],
   "source": [
    "df_sellers = pd.read_csv(dataset_sellers)"
   ]
  },
  {
   "cell_type": "code",
   "execution_count": 15,
   "id": "5515e16c",
   "metadata": {},
   "outputs": [
    {
     "data": {
      "text/html": [
       "<div>\n",
       "<style scoped>\n",
       "    .dataframe tbody tr th:only-of-type {\n",
       "        vertical-align: middle;\n",
       "    }\n",
       "\n",
       "    .dataframe tbody tr th {\n",
       "        vertical-align: top;\n",
       "    }\n",
       "\n",
       "    .dataframe thead th {\n",
       "        text-align: right;\n",
       "    }\n",
       "</style>\n",
       "<table border=\"1\" class=\"dataframe\">\n",
       "  <thead>\n",
       "    <tr style=\"text-align: right;\">\n",
       "      <th></th>\n",
       "      <th>seller_id</th>\n",
       "      <th>seller_zip_code_prefix</th>\n",
       "      <th>seller_city</th>\n",
       "      <th>seller_state</th>\n",
       "    </tr>\n",
       "  </thead>\n",
       "  <tbody>\n",
       "    <tr>\n",
       "      <th>0</th>\n",
       "      <td>3442f8959a84dea7ee197c632cb2df15</td>\n",
       "      <td>13023</td>\n",
       "      <td>campinas</td>\n",
       "      <td>SP</td>\n",
       "    </tr>\n",
       "    <tr>\n",
       "      <th>1</th>\n",
       "      <td>d1b65fc7debc3361ea86b5f14c68d2e2</td>\n",
       "      <td>13844</td>\n",
       "      <td>mogi guacu</td>\n",
       "      <td>SP</td>\n",
       "    </tr>\n",
       "    <tr>\n",
       "      <th>2</th>\n",
       "      <td>ce3ad9de960102d0677a81f5d0bb7b2d</td>\n",
       "      <td>20031</td>\n",
       "      <td>rio de janeiro</td>\n",
       "      <td>RJ</td>\n",
       "    </tr>\n",
       "    <tr>\n",
       "      <th>3</th>\n",
       "      <td>c0f3eea2e14555b6faeea3dd58c1b1c3</td>\n",
       "      <td>4195</td>\n",
       "      <td>sao paulo</td>\n",
       "      <td>SP</td>\n",
       "    </tr>\n",
       "    <tr>\n",
       "      <th>4</th>\n",
       "      <td>51a04a8a6bdcb23deccc82b0b80742cf</td>\n",
       "      <td>12914</td>\n",
       "      <td>braganca paulista</td>\n",
       "      <td>SP</td>\n",
       "    </tr>\n",
       "  </tbody>\n",
       "</table>\n",
       "</div>"
      ],
      "text/plain": [
       "                          seller_id  seller_zip_code_prefix  \\\n",
       "0  3442f8959a84dea7ee197c632cb2df15                   13023   \n",
       "1  d1b65fc7debc3361ea86b5f14c68d2e2                   13844   \n",
       "2  ce3ad9de960102d0677a81f5d0bb7b2d                   20031   \n",
       "3  c0f3eea2e14555b6faeea3dd58c1b1c3                    4195   \n",
       "4  51a04a8a6bdcb23deccc82b0b80742cf                   12914   \n",
       "\n",
       "         seller_city seller_state  \n",
       "0           campinas           SP  \n",
       "1         mogi guacu           SP  \n",
       "2     rio de janeiro           RJ  \n",
       "3          sao paulo           SP  \n",
       "4  braganca paulista           SP  "
      ]
     },
     "execution_count": 15,
     "metadata": {},
     "output_type": "execute_result"
    }
   ],
   "source": [
    "df_sellers.head()"
   ]
  },
  {
   "cell_type": "code",
   "execution_count": null,
   "id": "324a0bfb",
   "metadata": {},
   "outputs": [],
   "source": [
    "# sellers_id: id único do vendedor\n",
    "# seller_zip_code_prefix: primeiros 5 dígitos do CEP do vendedor\n",
    "# seller_city: cidade\n",
    "# seller_state: estado"
   ]
  },
  {
   "cell_type": "markdown",
   "id": "84271756",
   "metadata": {},
   "source": [
    "### Geolocation Dataset"
   ]
  },
  {
   "cell_type": "code",
   "execution_count": 16,
   "id": "8d079940",
   "metadata": {},
   "outputs": [],
   "source": [
    "df_geological = pd.read_csv(dataset_geo)"
   ]
  },
  {
   "cell_type": "code",
   "execution_count": 17,
   "id": "5ae0cdc9",
   "metadata": {},
   "outputs": [
    {
     "data": {
      "text/html": [
       "<div>\n",
       "<style scoped>\n",
       "    .dataframe tbody tr th:only-of-type {\n",
       "        vertical-align: middle;\n",
       "    }\n",
       "\n",
       "    .dataframe tbody tr th {\n",
       "        vertical-align: top;\n",
       "    }\n",
       "\n",
       "    .dataframe thead th {\n",
       "        text-align: right;\n",
       "    }\n",
       "</style>\n",
       "<table border=\"1\" class=\"dataframe\">\n",
       "  <thead>\n",
       "    <tr style=\"text-align: right;\">\n",
       "      <th></th>\n",
       "      <th>geolocation_zip_code_prefix</th>\n",
       "      <th>geolocation_lat</th>\n",
       "      <th>geolocation_lng</th>\n",
       "      <th>geolocation_city</th>\n",
       "      <th>geolocation_state</th>\n",
       "    </tr>\n",
       "  </thead>\n",
       "  <tbody>\n",
       "    <tr>\n",
       "      <th>0</th>\n",
       "      <td>1037</td>\n",
       "      <td>-23.545621</td>\n",
       "      <td>-46.639292</td>\n",
       "      <td>sao paulo</td>\n",
       "      <td>SP</td>\n",
       "    </tr>\n",
       "    <tr>\n",
       "      <th>1</th>\n",
       "      <td>1046</td>\n",
       "      <td>-23.546081</td>\n",
       "      <td>-46.644820</td>\n",
       "      <td>sao paulo</td>\n",
       "      <td>SP</td>\n",
       "    </tr>\n",
       "    <tr>\n",
       "      <th>2</th>\n",
       "      <td>1046</td>\n",
       "      <td>-23.546129</td>\n",
       "      <td>-46.642951</td>\n",
       "      <td>sao paulo</td>\n",
       "      <td>SP</td>\n",
       "    </tr>\n",
       "    <tr>\n",
       "      <th>3</th>\n",
       "      <td>1041</td>\n",
       "      <td>-23.544392</td>\n",
       "      <td>-46.639499</td>\n",
       "      <td>sao paulo</td>\n",
       "      <td>SP</td>\n",
       "    </tr>\n",
       "    <tr>\n",
       "      <th>4</th>\n",
       "      <td>1035</td>\n",
       "      <td>-23.541578</td>\n",
       "      <td>-46.641607</td>\n",
       "      <td>sao paulo</td>\n",
       "      <td>SP</td>\n",
       "    </tr>\n",
       "  </tbody>\n",
       "</table>\n",
       "</div>"
      ],
      "text/plain": [
       "   geolocation_zip_code_prefix  geolocation_lat  geolocation_lng  \\\n",
       "0                         1037       -23.545621       -46.639292   \n",
       "1                         1046       -23.546081       -46.644820   \n",
       "2                         1046       -23.546129       -46.642951   \n",
       "3                         1041       -23.544392       -46.639499   \n",
       "4                         1035       -23.541578       -46.641607   \n",
       "\n",
       "  geolocation_city geolocation_state  \n",
       "0        sao paulo                SP  \n",
       "1        sao paulo                SP  \n",
       "2        sao paulo                SP  \n",
       "3        sao paulo                SP  \n",
       "4        sao paulo                SP  "
      ]
     },
     "execution_count": 17,
     "metadata": {},
     "output_type": "execute_result"
    }
   ],
   "source": [
    "df_geological.head()"
   ]
  },
  {
   "cell_type": "code",
   "execution_count": 18,
   "id": "7088777c",
   "metadata": {},
   "outputs": [],
   "source": [
    "# geolocation_zip_code_prefix: 5 primeiros dígitos do CEP\n",
    "# geolocation_lat: latitude\n",
    "# geolocation_lng: longitude\n",
    "# geolocation_city: cidade\n",
    "# geolocation_satate: estado"
   ]
  },
  {
   "cell_type": "markdown",
   "id": "729ca113",
   "metadata": {},
   "source": [
    "# Analise"
   ]
  },
  {
   "cell_type": "markdown",
   "id": "c3437ff5",
   "metadata": {},
   "source": [
    "## Qunatidade de valores núlos por coluna"
   ]
  },
  {
   "cell_type": "code",
   "execution_count": 39,
   "id": "7ef68a4e",
   "metadata": {},
   "outputs": [],
   "source": [
    "def list_na_by_column(df:pd.DataFrame):\n",
    "    list_coll = df.columns\n",
    "    for coll in list_coll:\n",
    "        qnt = len(df[coll])\n",
    "        nulls = df[coll].isna().sum()\n",
    "        print(\"-\"*20)\n",
    "        print(f\"Nome da coluna: {coll}\")\n",
    "        print(f\"Número de núlos: {nulls}\")\n",
    "        print(f\"Porcentagem de nulos: {nulls/qnt*100:.3f}%\")\n",
    "    print(\"-\"*20)"
   ]
  },
  {
   "cell_type": "markdown",
   "id": "5493007d",
   "metadata": {},
   "source": [
    "### Order"
   ]
  },
  {
   "cell_type": "code",
   "execution_count": 42,
   "id": "a77b7739",
   "metadata": {},
   "outputs": [
    {
     "name": "stdout",
     "output_type": "stream",
     "text": [
      "--------------------\n",
      "Nome da coluna: order_id\n",
      "Número de núlos: 0\n",
      "Porcentagem de nulos: 0.000%\n",
      "--------------------\n",
      "Nome da coluna: customer_id\n",
      "Número de núlos: 0\n",
      "Porcentagem de nulos: 0.000%\n",
      "--------------------\n",
      "Nome da coluna: order_status\n",
      "Número de núlos: 0\n",
      "Porcentagem de nulos: 0.000%\n",
      "--------------------\n",
      "Nome da coluna: order_purchase_timestamp\n",
      "Número de núlos: 0\n",
      "Porcentagem de nulos: 0.000%\n",
      "--------------------\n",
      "Nome da coluna: order_approved_at\n",
      "Número de núlos: 160\n",
      "Porcentagem de nulos: 0.161%\n",
      "--------------------\n",
      "Nome da coluna: order_delivered_carrier_date\n",
      "Número de núlos: 1783\n",
      "Porcentagem de nulos: 1.793%\n",
      "--------------------\n",
      "Nome da coluna: order_delivered_customer_date\n",
      "Número de núlos: 2965\n",
      "Porcentagem de nulos: 2.982%\n",
      "--------------------\n",
      "Nome da coluna: order_estimated_delivery_date\n",
      "Número de núlos: 0\n",
      "Porcentagem de nulos: 0.000%\n",
      "--------------------\n"
     ]
    }
   ],
   "source": [
    "list_na_by_column(df_orders)"
   ]
  },
  {
   "cell_type": "markdown",
   "id": "42659762",
   "metadata": {},
   "source": [
    "### Customer"
   ]
  },
  {
   "cell_type": "code",
   "execution_count": 44,
   "id": "3f7c0e52",
   "metadata": {},
   "outputs": [
    {
     "name": "stdout",
     "output_type": "stream",
     "text": [
      "--------------------\n",
      "Nome da coluna: customer_id\n",
      "Número de núlos: 0\n",
      "Porcentagem de nulos: 0.000%\n",
      "--------------------\n",
      "Nome da coluna: customer_unique_id\n",
      "Número de núlos: 0\n",
      "Porcentagem de nulos: 0.000%\n",
      "--------------------\n",
      "Nome da coluna: customer_zip_code_prefix\n",
      "Número de núlos: 0\n",
      "Porcentagem de nulos: 0.000%\n",
      "--------------------\n",
      "Nome da coluna: customer_city\n",
      "Número de núlos: 0\n",
      "Porcentagem de nulos: 0.000%\n",
      "--------------------\n",
      "Nome da coluna: customer_state\n",
      "Número de núlos: 0\n",
      "Porcentagem de nulos: 0.000%\n",
      "--------------------\n"
     ]
    }
   ],
   "source": [
    "list_na_by_column(df_customers)"
   ]
  },
  {
   "cell_type": "markdown",
   "id": "19995a35",
   "metadata": {},
   "source": [
    "### Geolocalização"
   ]
  },
  {
   "cell_type": "code",
   "execution_count": 45,
   "id": "6ec927a7",
   "metadata": {},
   "outputs": [
    {
     "name": "stdout",
     "output_type": "stream",
     "text": [
      "--------------------\n",
      "Nome da coluna: geolocation_zip_code_prefix\n",
      "Número de núlos: 0\n",
      "Porcentagem de nulos: 0.000%\n",
      "--------------------\n",
      "Nome da coluna: geolocation_lat\n",
      "Número de núlos: 0\n",
      "Porcentagem de nulos: 0.000%\n",
      "--------------------\n",
      "Nome da coluna: geolocation_lng\n",
      "Número de núlos: 0\n",
      "Porcentagem de nulos: 0.000%\n",
      "--------------------\n",
      "Nome da coluna: geolocation_city\n",
      "Número de núlos: 0\n",
      "Porcentagem de nulos: 0.000%\n",
      "--------------------\n",
      "Nome da coluna: geolocation_state\n",
      "Número de núlos: 0\n",
      "Porcentagem de nulos: 0.000%\n",
      "--------------------\n"
     ]
    }
   ],
   "source": [
    "list_na_by_column(df_geological)"
   ]
  },
  {
   "cell_type": "markdown",
   "id": "f41699cd",
   "metadata": {},
   "source": [
    "### Order items"
   ]
  },
  {
   "cell_type": "code",
   "execution_count": 46,
   "id": "a60fe47c",
   "metadata": {},
   "outputs": [
    {
     "name": "stdout",
     "output_type": "stream",
     "text": [
      "--------------------\n",
      "Nome da coluna: order_id\n",
      "Número de núlos: 0\n",
      "Porcentagem de nulos: 0.000%\n",
      "--------------------\n",
      "Nome da coluna: order_item_id\n",
      "Número de núlos: 0\n",
      "Porcentagem de nulos: 0.000%\n",
      "--------------------\n",
      "Nome da coluna: product_id\n",
      "Número de núlos: 0\n",
      "Porcentagem de nulos: 0.000%\n",
      "--------------------\n",
      "Nome da coluna: seller_id\n",
      "Número de núlos: 0\n",
      "Porcentagem de nulos: 0.000%\n",
      "--------------------\n",
      "Nome da coluna: shipping_limit_date\n",
      "Número de núlos: 0\n",
      "Porcentagem de nulos: 0.000%\n",
      "--------------------\n",
      "Nome da coluna: price\n",
      "Número de núlos: 0\n",
      "Porcentagem de nulos: 0.000%\n",
      "--------------------\n",
      "Nome da coluna: freight_value\n",
      "Número de núlos: 0\n",
      "Porcentagem de nulos: 0.000%\n",
      "--------------------\n"
     ]
    }
   ],
   "source": [
    "list_na_by_column(df_order_items)"
   ]
  },
  {
   "cell_type": "markdown",
   "id": "b60a262c",
   "metadata": {},
   "source": [
    "### Product"
   ]
  },
  {
   "cell_type": "code",
   "execution_count": 47,
   "id": "c027d71c",
   "metadata": {},
   "outputs": [
    {
     "name": "stdout",
     "output_type": "stream",
     "text": [
      "--------------------\n",
      "Nome da coluna: product_id\n",
      "Número de núlos: 0\n",
      "Porcentagem de nulos: 0.000%\n",
      "--------------------\n",
      "Nome da coluna: product_category_name\n",
      "Número de núlos: 610\n",
      "Porcentagem de nulos: 1.851%\n",
      "--------------------\n",
      "Nome da coluna: product_name_lenght\n",
      "Número de núlos: 610\n",
      "Porcentagem de nulos: 1.851%\n",
      "--------------------\n",
      "Nome da coluna: product_description_lenght\n",
      "Número de núlos: 610\n",
      "Porcentagem de nulos: 1.851%\n",
      "--------------------\n",
      "Nome da coluna: product_photos_qty\n",
      "Número de núlos: 610\n",
      "Porcentagem de nulos: 1.851%\n",
      "--------------------\n",
      "Nome da coluna: product_weight_g\n",
      "Número de núlos: 2\n",
      "Porcentagem de nulos: 0.006%\n",
      "--------------------\n",
      "Nome da coluna: product_length_cm\n",
      "Número de núlos: 2\n",
      "Porcentagem de nulos: 0.006%\n",
      "--------------------\n",
      "Nome da coluna: product_height_cm\n",
      "Número de núlos: 2\n",
      "Porcentagem de nulos: 0.006%\n",
      "--------------------\n",
      "Nome da coluna: product_width_cm\n",
      "Número de núlos: 2\n",
      "Porcentagem de nulos: 0.006%\n",
      "--------------------\n"
     ]
    }
   ],
   "source": [
    "list_na_by_column(df_products)"
   ]
  },
  {
   "cell_type": "markdown",
   "id": "c2b4ebed",
   "metadata": {},
   "source": [
    "### Sellers"
   ]
  },
  {
   "cell_type": "code",
   "execution_count": 48,
   "id": "b5d561ba",
   "metadata": {},
   "outputs": [
    {
     "name": "stdout",
     "output_type": "stream",
     "text": [
      "--------------------\n",
      "Nome da coluna: seller_id\n",
      "Número de núlos: 0\n",
      "Porcentagem de nulos: 0.000%\n",
      "--------------------\n",
      "Nome da coluna: seller_zip_code_prefix\n",
      "Número de núlos: 0\n",
      "Porcentagem de nulos: 0.000%\n",
      "--------------------\n",
      "Nome da coluna: seller_city\n",
      "Número de núlos: 0\n",
      "Porcentagem de nulos: 0.000%\n",
      "--------------------\n",
      "Nome da coluna: seller_state\n",
      "Número de núlos: 0\n",
      "Porcentagem de nulos: 0.000%\n",
      "--------------------\n"
     ]
    }
   ],
   "source": [
    "list_na_by_column(df_sellers)"
   ]
  },
  {
   "cell_type": "markdown",
   "id": "fbd8e1bd",
   "metadata": {},
   "source": [
    "Conclusão: vai ser preciso considerar remover alguns registros inclompletos em cada uma das tabelas"
   ]
  },
  {
   "cell_type": "markdown",
   "id": "595122c4",
   "metadata": {},
   "source": [
    "## Tempo de entrega"
   ]
  },
  {
   "cell_type": "code",
   "execution_count": 33,
   "id": "808cfc4c",
   "metadata": {},
   "outputs": [],
   "source": [
    "def delivery_time(dataframe: pd.DataFrame, purchase_col: str, delivered_col: str) -> pd.Series:\n",
    "    purchase_dates = pd.to_datetime(dataframe[purchase_col])\n",
    "    delivery_dates = pd.to_datetime(dataframe[delivered_col])\n",
    "\n",
    "    delta = (delivery_dates - purchase_dates) / pd.Timedelta(days=1)\n",
    "    return delta"
   ]
  },
  {
   "cell_type": "code",
   "execution_count": null,
   "id": "cfb166fa",
   "metadata": {},
   "outputs": [],
   "source": [
    "# no dataframe\n",
    "df_total = df_orders.copy()\n",
    "df_total[\"delivery_time\"]"
   ]
  },
  {
   "cell_type": "code",
   "execution_count": null,
   "id": "6c7270f5",
   "metadata": {},
   "outputs": [],
   "source": []
  }
 ],
 "metadata": {
  "kernelspec": {
   "display_name": ".venv",
   "language": "python",
   "name": "python3"
  },
  "language_info": {
   "codemirror_mode": {
    "name": "ipython",
    "version": 3
   },
   "file_extension": ".py",
   "mimetype": "text/x-python",
   "name": "python",
   "nbconvert_exporter": "python",
   "pygments_lexer": "ipython3",
   "version": "3.12.3"
  }
 },
 "nbformat": 4,
 "nbformat_minor": 5
}
